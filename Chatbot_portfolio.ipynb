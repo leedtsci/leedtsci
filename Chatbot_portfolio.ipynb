{
 "cells": [
  {
   "cell_type": "markdown",
   "id": "301fd597",
   "metadata": {},
   "source": [
    "# Portfólio Processamento de Linguagem Natural - NLP"
   ]
  },
  {
   "cell_type": "markdown",
   "id": "ed814841",
   "metadata": {},
   "source": [
    "##### Criação do Chatbot"
   ]
  },
  {
   "cell_type": "markdown",
   "id": "b1ad638d",
   "metadata": {},
   "source": [
    "* Importação das biblotecas necessárias para o projeto"
   ]
  },
  {
   "cell_type": "code",
   "execution_count": 1,
   "id": "8d563b41",
   "metadata": {},
   "outputs": [],
   "source": [
    "# Biblioteca NLTK\n",
    "import nltk\n",
    "# Importando a classe Chat e o objeto reflections\n",
    "from nltk.chat.util import Chat, reflections\n",
    "# Importando o método sleep\n",
    "from time import sleep"
   ]
  },
  {
   "cell_type": "markdown",
   "id": "f5e935d3",
   "metadata": {},
   "source": [
    "* Realizando o download dos recursos para tokenização"
   ]
  },
  {
   "cell_type": "code",
   "execution_count": 2,
   "id": "ddf9397e",
   "metadata": {},
   "outputs": [
    {
     "name": "stderr",
     "output_type": "stream",
     "text": [
      "[nltk_data] Downloading package punkt to\n",
      "[nltk_data]     C:\\Users\\leand\\AppData\\Roaming\\nltk_data...\n",
      "[nltk_data]   Package punkt is already up-to-date!\n",
      "[nltk_data] Downloading package stopwords to\n",
      "[nltk_data]     C:\\Users\\leand\\AppData\\Roaming\\nltk_data...\n",
      "[nltk_data]   Package stopwords is already up-to-date!\n"
     ]
    },
    {
     "data": {
      "text/plain": [
       "True"
      ]
     },
     "execution_count": 2,
     "metadata": {},
     "output_type": "execute_result"
    }
   ],
   "source": [
    "# separar palavras e pontuações em um texto\n",
    "nltk.download('punkt')\n",
    "# Remoção de palavras comuns para precisão dos algoritmos de PNL\n",
    "nltk.download('stopwords')"
   ]
  },
  {
   "cell_type": "markdown",
   "id": "349a0c4f",
   "metadata": {},
   "source": [
    "* Definindo reflections"
   ]
  },
  {
   "cell_type": "code",
   "execution_count": 3,
   "id": "876f5708",
   "metadata": {},
   "outputs": [],
   "source": [
    "reflections = {\n",
    "    \"eu sou\": \"você é\",\n",
    "    \"eu era\": \"você era\",\n",
    "    \"eu\": \"você\",\n",
    "    \"meu\": \"seu\",\n",
    "    \"você é\": \"eu sou\",\n",
    "    \"você era\": \"eu era\",\n",
    "    \"seu\": \"meu\",\n",
    "    \"sou\": \"é\",\n",
    "    \"você\": \"eu\"\n",
    "}"
   ]
  },
  {
   "cell_type": "markdown",
   "id": "f9bff4c1",
   "metadata": {},
   "source": [
    "* Criando os padrões de diálogo"
   ]
  },
  {
   "cell_type": "code",
   "execution_count": 17,
   "id": "27347845",
   "metadata": {},
   "outputs": [],
   "source": [
    "conversa = [\n",
    "    # Listas formatadas para reconhecem qualquer combinação de letras acentuadas, maiúsculas ou minúsculas.\n",
    "    [r\"(?i)\\b[oóòôõö]l[aáàâãä]\\b\", [\"Olá! Como vai?\"]],\n",
    "    [r\"(?i).*bem\", [\"Que bom!😎\"]],\n",
    "    [r\"(?i)\\boi\\b\", [\"Como vai?\"]],\n",
    "    [r\"(?i)\\b(ok|certo|positivo|entendido|compreendido|beleza|ótimo|otimo|não há de que|por nada|não por isso)\\b\", [\"🤝\"]],\n",
    "    [r\"\\b(tudo bem|TUDO BEM|tudo bem!|TUDO BEM!)\\b\", [\"Isso é bom!👍\"]],\n",
    "    [r\"(como vai?|como você está?|como voce esta?|E você?|E voce?|bem e você?|bem e voce?)\",\n",
    "     [\"Estou bem, Grato por perguntar!❤️\"]],\n",
    "    [r\"(?i)me ajuda?\", [\"Claro, em que posso ser útil?\"]],\n",
    "    [\"(?i)preciso de ajuda\", [\"Claro, em que posso ser útil?\"]],\n",
    "    [\"(?i)pode ajudar?\", [\"Claro, em que posso ser útil?\"]],\n",
    "    [r\"(?i).*pode me ajudar?\", [\"Claro, em que posso ser útil?\"]],\n",
    "    [r\"(?i)\\bajuda[r]?\\b\", [\"Claro, em que posso ser útil?\"]],\n",
    "    [r\"(?i).*brincando\", [\"Sem problemas, você tem bom humor 😂\"]],\n",
    "    [r\"(?i).*um chatbot\", [\"Que legal, sugiro o estudo da biblioteca NLTK\"]],\n",
    "    [r\"(?i).*indica um site?\", [\"Claro, o site oficial é: https://www.nltk.org/\"]],\n",
    "    [r\"(?i).*indicar um site?\", [\"Claro, o site oficial é: https://www.nltk.org/\"]],\n",
    "    [r\"(agradeço|grato|obrigado|muito grato|muito obrigado)\",\n",
    "     [\"Não há de que! Você encontrará muitos tópicos úteis no site oficial da biblioteca.\"]],\n",
    "    [r\"(?i).*finalizar.*\", [\"OK, conte comigo sempre que precisar. Até mais!\"]],\n",
    "    [r\"(?i)\\bquem .*criou.* você\\b\", [\"Foi um estudante de ciência de dados, O nome dele é Leandro.\"]],\n",
    "    [r\"(?i)\\b(legal|que legal|bacana|que bacana|massa|que massa|irado|que irado|gostei|tai gostei|foda|que foda|top|que top|show|que show)\\b\", \n",
    "     [\"Interessante, não é mesmo?! É o poder da biblioteca NLTK.😁\"]],\n",
    "    # Qualquer palavra/frase fora da lista, retona que o chat ainda não está preparado para a solicitação\n",
    "    [\".*\", [\"Ainda não sou capaz de reconhecer a frase/texto ou não possuo conhecimento nesse assunto.\"]]\n",
    "]"
   ]
  },
  {
   "cell_type": "markdown",
   "id": "2ebcef92",
   "metadata": {},
   "source": [
    "* Criando o chat com padrões de pergunta e resposta"
   ]
  },
  {
   "cell_type": "code",
   "execution_count": 18,
   "id": "eec9e736",
   "metadata": {},
   "outputs": [],
   "source": [
    "bot = Chat(conversa, reflections)"
   ]
  },
  {
   "cell_type": "markdown",
   "id": "a087d215",
   "metadata": {},
   "source": [
    "* Criando o loop do chat"
   ]
  },
  {
   "cell_type": "code",
   "execution_count": 19,
   "id": "4bbcd75d",
   "metadata": {},
   "outputs": [
    {
     "name": "stdout",
     "output_type": "stream",
     "text": [
      "Por gentileza, para começar digite o seu nome: \n",
      "\n",
      "Leandro\n",
      "\n",
      "Robô: Olá, Leandro! Meu nome é Jullees, e sou um chat virtual.\n",
      "Vamos começar.\n",
      "Digite aqui: Olá Jullees\n",
      "Robô:  Olá! Como vai?\n",
      "\n",
      "Digite aqui: estou bem\n",
      "Robô:  Que bom!😎\n",
      "\n",
      "Digite aqui: e você, como vai?\n",
      "Robô:  Estou bem, Grato por perguntar!❤️\n",
      "\n",
      "Digite aqui: por nada\n",
      "Robô:  🤝\n",
      "\n",
      "Digite aqui: pode me ajudar?\n",
      "Robô:  Claro, em que posso ser útil?\n",
      "\n",
      "Digite aqui: Quero ficar rico e ficar numa boa\n",
      "Robô:  Ainda não sou capaz de reconhecer a frase/texto ou não possuo conhecimento nesse assunto.\n",
      "\n",
      "Digite aqui: Estou brincando\n",
      "Robô:  Sem problemas, você tem bom humor 😂\n",
      "\n",
      "Digite aqui: agora é serio, estou desenvolvendo um chatbot\n",
      "Robô:  Que legal, sugiro o estudo da biblioteca NLTK\n",
      "\n",
      "Digite aqui: indica um site?\n",
      "Robô:  Claro, o site oficial é: https://www.nltk.org/\n",
      "\n",
      "Digite aqui: grato\n",
      "Robô:  Não há de que! Você encontrará muitos tópicos úteis no site oficial da biblioteca.\n",
      "\n",
      "Digite aqui: quem criou você?\n",
      "Robô:  Foi um estudante de ciência de dados, O nome dele é Leandro.\n",
      "\n",
      "Digite aqui: que legal!\n",
      "Robô:  Interessante, não é mesmo?! É o poder da biblioteca NLTK.😁\n",
      "\n",
      "Digite aqui: agora, vou finalizar a nossa conversa\n",
      "Robô:  OK, conte comigo sempre que precisar. Até mais!\n",
      "\n",
      "Digite aqui: entendido\n",
      "Robô:  🤝\n",
      "\n",
      "Digite aqui: Sair\n",
      "\n",
      "Chat finalizado. Até mais Leandro\n"
     ]
    }
   ],
   "source": [
    "# Definindo um input para o bot tratar o usuário pelo nome inserido\n",
    "nome = input(\"Por gentileza, para começar digite o seu nome: \\n\\n\")\n",
    "# Loop para funcionamento do chat com bloco try/except\n",
    "def dialogo(nome):\n",
    "    try:\n",
    "        print(f\"\\nRobô: Olá, {nome}! Meu nome é Jullees, e sou um chat virtual.\\nVamos começar.\")\n",
    "        sleep(2)\n",
    "        while True:\n",
    "            pessoa = input(\"Digite aqui: \")\n",
    "            sleep(1)\n",
    "            # Criando uma condição para reconhecer a saída do chat\n",
    "            if pessoa == \"sair\" or pessoa == \"SAIR\" or pessoa == 'Sair':\n",
    "                print(\"\\nChat finalizado. Até mais\", nome)\n",
    "                break\n",
    "            else:\n",
    "                chat = bot.respond(pessoa)\n",
    "                sleep(1)\n",
    "                print(\"Robô: \", chat, end=\"\\n\\n\")\n",
    "                sleep(1)\n",
    "    # Tratativa e demonstração do erro, caso houver algum            \n",
    "    except Exception as e:\n",
    "        print(\"Ocorreu um erro: \", '\\n', e)\n",
    "# Chamando a função dialogo\n",
    "dialogo(nome)"
   ]
  },
  {
   "cell_type": "markdown",
   "id": "5637a8a2",
   "metadata": {},
   "source": [
    "#### Criando o Processo de Tokenização"
   ]
  },
  {
   "cell_type": "markdown",
   "id": "06ec62ff",
   "metadata": {},
   "source": [
    "* Importando as bibliotecas para tokenização"
   ]
  },
  {
   "cell_type": "code",
   "execution_count": 20,
   "id": "47670233",
   "metadata": {},
   "outputs": [],
   "source": [
    "from nltk.tokenize import word_tokenize\n",
    "from nltk.corpus import stopwords"
   ]
  },
  {
   "cell_type": "markdown",
   "id": "d59734a5",
   "metadata": {},
   "source": [
    "* Definido stopword em pt-br e criando a variável que contém o texto para tokenização"
   ]
  },
  {
   "cell_type": "code",
   "execution_count": 21,
   "id": "c4da17a7",
   "metadata": {},
   "outputs": [],
   "source": [
    "# Definindo o recurso stopwords para a lingua portuguesa\n",
    "pt_br = stopwords.words('portuguese')\n",
    "# Texto para tokenização\n",
    "texto = '''Neste texto, será realizado o teste da funcionalidade\n",
    "           do recurso para tokenização. Após os processos, será \n",
    "           possível identificar a eficácia da biblioteca NLTK e\n",
    "           seus recursos.'''"
   ]
  },
  {
   "cell_type": "markdown",
   "id": "958f4548",
   "metadata": {},
   "source": [
    "* Criando o processo de tokenização"
   ]
  },
  {
   "cell_type": "code",
   "execution_count": 22,
   "id": "fb669951",
   "metadata": {},
   "outputs": [
    {
     "name": "stdout",
     "output_type": "stream",
     "text": [
      "Texto tokenizado: \n",
      "\n",
      " ['Neste', 'texto', ',', 'será', 'realizado', 'o', 'teste', 'da', 'funcionalidade', 'do', 'recurso', 'para', 'tokenização', '.', 'Após', 'os', 'processos', ',', 'será', 'possível', 'identificar', 'a', 'eficácia', 'da', 'biblioteca', 'NLTK', 'e', 'seus', 'recursos', '.']\n"
     ]
    }
   ],
   "source": [
    "palavras = word_tokenize(texto, language='portuguese')\n",
    "print(\"Texto tokenizado:\", \"\\n\\n\", palavras)"
   ]
  },
  {
   "cell_type": "markdown",
   "id": "6d67d61a",
   "metadata": {},
   "source": [
    "* Criando uma nova lista chamada sem_stopwords que contém todas as palavras \n",
    "  da lista palavras que não estão na lista de stopwords removendo as palavras \n",
    "  comuns que geralmente não contribuem para o significado de uma frase da lista de palavras reduzindo o ruído dos dados."
   ]
  },
  {
   "cell_type": "code",
   "execution_count": 23,
   "id": "f4fac2d9",
   "metadata": {},
   "outputs": [
    {
     "name": "stdout",
     "output_type": "stream",
     "text": [
      "['Neste', 'texto', ',', 'realizado', 'teste', 'funcionalidade', 'recurso', 'tokenização', '.', 'Após', 'processos', ',', 'possível', 'identificar', 'eficácia', 'biblioteca', 'NLTK', 'recursos', '.']\n"
     ]
    }
   ],
   "source": [
    "sem_stopwords = [palavra for palavra in palavras if palavra.lower() not in pt_br]\n",
    "print(sem_stopwords)"
   ]
  },
  {
   "cell_type": "markdown",
   "id": "a4310a74",
   "metadata": {},
   "source": [
    "#### Criando o processo de análise de sentimentos"
   ]
  },
  {
   "cell_type": "markdown",
   "id": "7ed5f787",
   "metadata": {},
   "source": [
    "* Importando as biblotecas necessárias para o projeto de análise de sentimentos"
   ]
  },
  {
   "cell_type": "code",
   "execution_count": 31,
   "id": "e74f37b5",
   "metadata": {},
   "outputs": [],
   "source": [
    "# Importando TextBlob e NaiveBayesClassifier\n",
    "from textblob import TextBlob\n",
    "from textblob.classifiers import NaiveBayesClassifier\n",
    "from time import sleep"
   ]
  },
  {
   "cell_type": "markdown",
   "id": "275f8738",
   "metadata": {},
   "source": [
    "* Criando a função para analisar os sentimentos"
   ]
  },
  {
   "cell_type": "code",
   "execution_count": 35,
   "id": "bd1ed810",
   "metadata": {
    "scrolled": true
   },
   "outputs": [
    {
     "name": "stdout",
     "output_type": "stream",
     "text": [
      "Digite algo para análise de sentimento: Fiquei insatisfeito com o produto adquirido\n",
      "\n",
      "A frase digitada foi: Fiquei insatisfeito com o produto adquirido\n",
      "\n",
      "Análise de Sentimento:  👎😢👎Isso me parece Negativo👎😢👎\n"
     ]
    }
   ],
   "source": [
    "def analise(texto):\n",
    "    # Exemplo de conjunto de treinamento\n",
    "    treino = [\n",
    "        ('Eu amo esse produto!', 'pos'), ('Estou muito feliz.', 'pos'), ('Isso é muito bom', 'pos'), ('Eu estou bem', 'pos'),\n",
    "        ('Esse rapaz é legal', 'pos'), (' Esse creme é otimo', 'pos'), ('Estou descansado', 'pos'), ('Estou apaixonado', 'pos'),\n",
    "        ('Gostei muito do show', 'pos'), ('Estou me sentindo mal', 'neg'), ('Estou me sentindo mau', 'neg'), \n",
    "        ('Estou muito cansado', 'neg'), ('Tenho medo de morrer', 'neg'), ('Estou doente', 'neg'),('Não gostei do sabor', 'neg'),\n",
    "        ('Estou me sentindo infeliz', 'neg'), ('Esse processo não funciona', 'neg'), ('Isso é terrível.', 'neg'), \n",
    "        ('Isso é pessimo', 'neg'), ('Estou com muita raiva.', 'neg'), ('Estou com muita odio.', 'neg')\n",
    "    ]\n",
    "    \n",
    "    # Treinamento do classificador\n",
    "    cl = NaiveBayesClassifier(treino)\n",
    "    # Definindo a classificação do texto para a variável 'entrada'\n",
    "    entrada = TextBlob(texto, classifier=cl)\n",
    "    #Criando \n",
    "    for i in entrada.sentences:\n",
    "        print('\\nA frase digitada foi:', i, end='\\n')\n",
    "        sleep(2)\n",
    "        if i.classify() == 'neg':\n",
    "            return '👎😢👎Isso me parece Negativo👎😢👎'\n",
    "        elif i.classify() == 'pos':\n",
    "            return '👍😁👍Isso me parece Positivo!👍😁👍'\n",
    "        else:\n",
    "            return '🤔🤔🤔Não consigo determinar o sentimento com exatidão.🤔🤔🤔'\n",
    "\n",
    "# Utilizando a função 'analise'\n",
    "entrada = input(\"Digite algo para análise de sentimento: \")\n",
    "sentimento = analise(entrada)\n",
    "print(\"\\nAnálise de Sentimento: \", sentimento)"
   ]
  },
  {
   "cell_type": "code",
   "execution_count": null,
   "id": "64954985",
   "metadata": {},
   "outputs": [],
   "source": []
  }
 ],
 "metadata": {
  "kernelspec": {
   "display_name": "Python 3 (ipykernel)",
   "language": "python",
   "name": "python3"
  },
  "language_info": {
   "codemirror_mode": {
    "name": "ipython",
    "version": 3
   },
   "file_extension": ".py",
   "mimetype": "text/x-python",
   "name": "python",
   "nbconvert_exporter": "python",
   "pygments_lexer": "ipython3",
   "version": "3.9.18"
  }
 },
 "nbformat": 4,
 "nbformat_minor": 5
}
