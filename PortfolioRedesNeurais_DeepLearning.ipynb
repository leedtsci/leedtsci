{
  "cells": [
    {
      "cell_type": "markdown",
      "metadata": {},
      "source": [
        "**ATIVIDADE PROPOSTA**"
      ]
    },
    {
      "cell_type": "markdown",
      "metadata": {},
      "source": [
        "* Elaborar um modelo preditivo utilizando redes neurais com o TensorFlow para calcular a conversão de valores de temperatura em Celsius para Fahrenheit;\n",
        "* Apresentar como saída as estatísticas do treinamento e uma tabela comparativa de valores calculados pelo modelo e valores reais;"
      ]
    },
    {
      "cell_type": "markdown",
      "metadata": {},
      "source": [
        "1 - Para desenvolvimento do projeto, foi necessário instalar Tensorflow e importação das bibliotecas:"
      ]
    },
    {
      "cell_type": "markdown",
      "metadata": {},
      "source": [
        "* Tensorflow para criação do modelo\n",
        "* Numpy para criação de arrays;\n",
        "* Pandas para criação da Tabela (Dataframe);\n",
        "* Matplotlib para criação de gráfico;\n",
        "* Função Mean Absolute Error da biblioteca Scikitlearn para visualização do Erro Médio Absoluto do modelo(MAE)."
      ]
    },
    {
      "cell_type": "code",
      "execution_count": null,
      "metadata": {
        "colab": {
          "base_uri": "https://localhost:8080/"
        },
        "id": "1vLgFcC3OagV",
        "outputId": "9108011a-85c5-44d5-b792-157e25819c4b"
      },
      "outputs": [
        {
          "name": "stdout",
          "output_type": "stream",
          "text": [
            "Requirement already satisfied: tensorflow in /usr/local/lib/python3.11/dist-packages (2.18.0)\n",
            "Requirement already satisfied: absl-py>=1.0.0 in /usr/local/lib/python3.11/dist-packages (from tensorflow) (1.4.0)\n",
            "Requirement already satisfied: astunparse>=1.6.0 in /usr/local/lib/python3.11/dist-packages (from tensorflow) (1.6.3)\n",
            "Requirement already satisfied: flatbuffers>=24.3.25 in /usr/local/lib/python3.11/dist-packages (from tensorflow) (25.2.10)\n",
            "Requirement already satisfied: gast!=0.5.0,!=0.5.1,!=0.5.2,>=0.2.1 in /usr/local/lib/python3.11/dist-packages (from tensorflow) (0.6.0)\n",
            "Requirement already satisfied: google-pasta>=0.1.1 in /usr/local/lib/python3.11/dist-packages (from tensorflow) (0.2.0)\n",
            "Requirement already satisfied: libclang>=13.0.0 in /usr/local/lib/python3.11/dist-packages (from tensorflow) (18.1.1)\n",
            "Requirement already satisfied: opt-einsum>=2.3.2 in /usr/local/lib/python3.11/dist-packages (from tensorflow) (3.4.0)\n",
            "Requirement already satisfied: packaging in /usr/local/lib/python3.11/dist-packages (from tensorflow) (24.2)\n",
            "Requirement already satisfied: protobuf!=4.21.0,!=4.21.1,!=4.21.2,!=4.21.3,!=4.21.4,!=4.21.5,<6.0.0dev,>=3.20.3 in /usr/local/lib/python3.11/dist-packages (from tensorflow) (5.29.4)\n",
            "Requirement already satisfied: requests<3,>=2.21.0 in /usr/local/lib/python3.11/dist-packages (from tensorflow) (2.32.3)\n",
            "Requirement already satisfied: setuptools in /usr/local/lib/python3.11/dist-packages (from tensorflow) (75.2.0)\n",
            "Requirement already satisfied: six>=1.12.0 in /usr/local/lib/python3.11/dist-packages (from tensorflow) (1.17.0)\n",
            "Requirement already satisfied: termcolor>=1.1.0 in /usr/local/lib/python3.11/dist-packages (from tensorflow) (3.1.0)\n",
            "Requirement already satisfied: typing-extensions>=3.6.6 in /usr/local/lib/python3.11/dist-packages (from tensorflow) (4.13.2)\n",
            "Requirement already satisfied: wrapt>=1.11.0 in /usr/local/lib/python3.11/dist-packages (from tensorflow) (1.17.2)\n",
            "Requirement already satisfied: grpcio<2.0,>=1.24.3 in /usr/local/lib/python3.11/dist-packages (from tensorflow) (1.71.0)\n",
            "Requirement already satisfied: tensorboard<2.19,>=2.18 in /usr/local/lib/python3.11/dist-packages (from tensorflow) (2.18.0)\n",
            "Requirement already satisfied: keras>=3.5.0 in /usr/local/lib/python3.11/dist-packages (from tensorflow) (3.8.0)\n",
            "Requirement already satisfied: numpy<2.1.0,>=1.26.0 in /usr/local/lib/python3.11/dist-packages (from tensorflow) (2.0.2)\n",
            "Requirement already satisfied: h5py>=3.11.0 in /usr/local/lib/python3.11/dist-packages (from tensorflow) (3.13.0)\n",
            "Requirement already satisfied: ml-dtypes<0.5.0,>=0.4.0 in /usr/local/lib/python3.11/dist-packages (from tensorflow) (0.4.1)\n",
            "Requirement already satisfied: tensorflow-io-gcs-filesystem>=0.23.1 in /usr/local/lib/python3.11/dist-packages (from tensorflow) (0.37.1)\n",
            "Requirement already satisfied: wheel<1.0,>=0.23.0 in /usr/local/lib/python3.11/dist-packages (from astunparse>=1.6.0->tensorflow) (0.45.1)\n",
            "Requirement already satisfied: rich in /usr/local/lib/python3.11/dist-packages (from keras>=3.5.0->tensorflow) (13.9.4)\n",
            "Requirement already satisfied: namex in /usr/local/lib/python3.11/dist-packages (from keras>=3.5.0->tensorflow) (0.0.9)\n",
            "Requirement already satisfied: optree in /usr/local/lib/python3.11/dist-packages (from keras>=3.5.0->tensorflow) (0.15.0)\n",
            "Requirement already satisfied: charset-normalizer<4,>=2 in /usr/local/lib/python3.11/dist-packages (from requests<3,>=2.21.0->tensorflow) (3.4.1)\n",
            "Requirement already satisfied: idna<4,>=2.5 in /usr/local/lib/python3.11/dist-packages (from requests<3,>=2.21.0->tensorflow) (3.10)\n",
            "Requirement already satisfied: urllib3<3,>=1.21.1 in /usr/local/lib/python3.11/dist-packages (from requests<3,>=2.21.0->tensorflow) (2.4.0)\n",
            "Requirement already satisfied: certifi>=2017.4.17 in /usr/local/lib/python3.11/dist-packages (from requests<3,>=2.21.0->tensorflow) (2025.4.26)\n",
            "Requirement already satisfied: markdown>=2.6.8 in /usr/local/lib/python3.11/dist-packages (from tensorboard<2.19,>=2.18->tensorflow) (3.8)\n",
            "Requirement already satisfied: tensorboard-data-server<0.8.0,>=0.7.0 in /usr/local/lib/python3.11/dist-packages (from tensorboard<2.19,>=2.18->tensorflow) (0.7.2)\n",
            "Requirement already satisfied: werkzeug>=1.0.1 in /usr/local/lib/python3.11/dist-packages (from tensorboard<2.19,>=2.18->tensorflow) (3.1.3)\n",
            "Requirement already satisfied: MarkupSafe>=2.1.1 in /usr/local/lib/python3.11/dist-packages (from werkzeug>=1.0.1->tensorboard<2.19,>=2.18->tensorflow) (3.0.2)\n",
            "Requirement already satisfied: markdown-it-py>=2.2.0 in /usr/local/lib/python3.11/dist-packages (from rich->keras>=3.5.0->tensorflow) (3.0.0)\n",
            "Requirement already satisfied: pygments<3.0.0,>=2.13.0 in /usr/local/lib/python3.11/dist-packages (from rich->keras>=3.5.0->tensorflow) (2.19.1)\n",
            "Requirement already satisfied: mdurl~=0.1 in /usr/local/lib/python3.11/dist-packages (from markdown-it-py>=2.2.0->rich->keras>=3.5.0->tensorflow) (0.1.2)\n"
          ]
        }
      ],
      "source": [
        "# Etapa 1: Instalação Tensorflow e importação das bibliotecas\n",
        "import tensorflow as tf\n",
        "import numpy as np\n",
        "import pandas as pd\n",
        "import matplotlib.pyplot as plt\n",
        "from sklearn.metrics import mean_absolute_error"
      ]
    },
    {
      "cell_type": "markdown",
      "metadata": {},
      "source": [
        "2 - Dados para treinamento do Modelo"
      ]
    },
    {
      "cell_type": "markdown",
      "metadata": {},
      "source": [
        "Para criação dos dados de treinamento do modelo, foi utilizada a biblioteca Numpy e a utilização da função “np.array” para criação dos dados:"
      ]
    },
    {
      "cell_type": "code",
      "execution_count": null,
      "metadata": {
        "id": "9V7LivVfWE-P"
      },
      "outputs": [],
      "source": [
        "# Etapa 2: Criação dos dados de treinamento\n",
        "graus_celsius = np.array([-40, -10, 0, 8, 15, 22, 38], dtype=float)\n",
        "graus_fahrenheit = np.array([-40, 14, 32, 46.4, 59, 71.6, 100], dtype=float)"
      ]
    },
    {
      "cell_type": "markdown",
      "metadata": {},
      "source": [
        "3 - Construção do modelo"
      ]
    },
    {
      "cell_type": "markdown",
      "metadata": {},
      "source": [
        "<div style=\"text-align: justify\">O trecho de código descrito abaixo, define e compila um modelo de rede neural simples utilizando a API Keras do TensorFlow. O modelo é do tipo sequencial e possui apenas uma camada densa (totalmente conectada), ideal para tarefas de regressão linear, como conversão de graus Celsius para Fahrenheit. A camada possui um único neurônio (units=1) com inicialização do peso “kernel_initializer” com média 1.8 e desvio padrão 0.1, e o viés “bias_initializer” fixado em 32, valores que correspondem à fórmula de conversão entre as duas escalas de temperatura. O otimizador escolhido é o SGD (gradiente descendente estocástico) com taxa de aprendizado de 0.001 e “momentum” de 0.9, que ajuda a acelerar a convergência e reduzir oscilações. O modelo é então compilado com a função de perda “mean_squared_error” (erro quadrático médio) e a métrica “mae” (erro absoluto médio) para avaliação durante o treinamento.</div>"
      ]
    },
    {
      "cell_type": "code",
      "execution_count": null,
      "metadata": {
        "id": "smvuIwK7POW0"
      },
      "outputs": [],
      "source": [
        "# Etapa 3: Construção do modelo\n",
        "# Criação de um modelo sequencial com uma única camada densa\n",
        "modelo = tf.keras.Sequential([\n",
        "    tf.keras.Input(shape=(1,)), # Define que a entrada será unidimensional\n",
        "    # Adiciona uma camada densa com 1 unidade (neurônio)\n",
        "    tf.keras.layers.Dense(\n",
        "        units=1,\n",
        "        # Inicialização dos pesos com média 1.8 e desvio padrão 0.1\n",
        "        kernel_initializer=tf.keras.initializers.RandomNormal(mean=1.8, stddev=0.1),\n",
        "        # Inicialização do viés como constante 32 (valor fixo na fórmula C×1.8 + 32)\n",
        "        bias_initializer=tf.keras.initializers.Constant(32)\n",
        "    )\n",
        "])\n",
        "# Definição do otimizador como Gradiente Descendente Estocástico (SGD)\n",
        "# com uma taxa de aprendizado pequena e momentum para melhorar a estabilidade da descida\n",
        "optimizer = tf.keras.optimizers.SGD(\n",
        "    learning_rate=0.001, # taxa de aprendizado\n",
        "    momentum=0.9 # momentum para suavizar e acelerar o treinamento\n",
        ")\n",
        "# Compilação do modelo\n",
        "modelo.compile(\n",
        "    optimizer=optimizer,\n",
        "    loss='mean_squared_error', # função de perda 'mean_squared_error' (erro quadrático médio)\n",
        "    metrics=['mae'] # métrica adicional 'mae' (erro absoluto médio) para monitorar a performance\n",
        ")"
      ]
    },
    {
      "cell_type": "markdown",
      "metadata": {},
      "source": [
        "3 - Treinamento do Modelo"
      ]
    },
    {
      "cell_type": "markdown",
      "metadata": {},
      "source": [
        "<div style=\"text-align: justify\"> O código realiza o treinamento do modelo previamente definido, utilizando os dados de entrada (graus_celsius) e os valores correspondentes em Fahrenheit (graus_fahrenheit). O método “fit” executa o processo de ajuste dos pesos e viéses do modelo por meio da otimização da função de perda ao longo de 200 épocas (iterações completas sobre os dados). O parâmetro “verbose=False” suprime a saída detalhada do progresso durante o treinamento, deixando a execução mais limpa. Ao final do processo, é exibida uma mensagem indicando que o treinamento foi concluído com sucesso.</div>"
      ]
    },
    {
      "cell_type": "code",
      "execution_count": null,
      "metadata": {
        "colab": {
          "base_uri": "https://localhost:8080/"
        },
        "id": "lL1UOCnBPvBZ",
        "outputId": "0ca00d23-32f9-4551-943b-ab0038193ea8"
      },
      "outputs": [
        {
          "name": "stdout",
          "output_type": "stream",
          "text": [
            "Treinamento Concluído...\n"
          ]
        }
      ],
      "source": [
        "# Etapa 4: Treinamento do modelo\n",
        "treinamento = modelo.fit(\n",
        "    graus_celsius, # Dados de entrada (X)\n",
        "    graus_fahrenheit, # Valores-alvo (Y)\n",
        "    epochs=200, # Número de épocas (repetições sobre todo o conjunto de dados)\n",
        "    verbose=False # Desativa a exibição detalhada durante o treinamento\n",
        "    )\n",
        "# Mensagem indicando que o processo de treinamento foi finalizado\n",
        "print(\"Treinamento Concluído...\")"
      ]
    },
    {
      "cell_type": "markdown",
      "metadata": {},
      "source": [
        "<div style=\"text-align: justify\">O trecho do código acessa diretamente os pesos (coeficiente) e o viés (intercepto) aprendidos pela camada densa do modelo treinado. Em um modelo de rede neural simples com apenas uma camada densa e uma unidade, o peso representa o multiplicador aplicado à entrada, enquanto o viés representa o valor somado ao resultado da multiplicação. Esses dois parâmetros são suficientes para definir a equação linear aprendida (no caso, a conversão de graus Celsius para Fahrenheit). O código extrai esses valores e os exibe formatados com quatro casas decimais.</div>"
      ]
    },
    {
      "cell_type": "code",
      "execution_count": null,
      "metadata": {
        "colab": {
          "base_uri": "https://localhost:8080/"
        },
        "id": "ASr7A98GeWvC",
        "outputId": "8a120f59-8c42-48d7-ad6e-ca57d1515070"
      },
      "outputs": [
        {
          "name": "stdout",
          "output_type": "stream",
          "text": [
            "\n",
            "Peso aprendido (multiplicador): 1.7965\n",
            "Viés aprendido (soma): 31.9599\n"
          ]
        }
      ],
      "source": [
        "# Acessa o peso (coeficiente multiplicador) aprendido pela primeira camada (índice 0)\n",
        "# get_weights() retorna uma lista: [pesos, viéses]\n",
        "# [0][0][0] acessa o primeiro valor do array de pesos, que é um valor escalar no nosso caso\n",
        "peso = modelo.layers[0].get_weights()[0][0][0]\n",
        "# Acessa o viés (valor somado) aprendido pela primeira camada\n",
        "# [1][0] acessa o primeiro valor do array de viéses\n",
        "viés = modelo.layers[0].get_weights()[1][0]\n",
        "# Exibe o peso (multiplicador) com 4 casas decimais\n",
        "print(f\"\\nPeso aprendido (multiplicador): {peso:.4f}\")\n",
        "# Exibe o viés (soma) com 4 casas decimais\n",
        "print(f\"Viés aprendido (soma): {viés:.4f}\")"
      ]
    },
    {
      "cell_type": "markdown",
      "metadata": {},
      "source": [
        "<div style=\"text-align: justify\">De acordo com os dados de saída, após o treinamento o modelo aprendeu os seguintes parâmetros: um peso (coeficiente angular) de aproximadamente 1.7965 e um viés (intercepto) de cerca de 31.9599. Esses valores estão bastante próximos dos coeficientes reais da equação de conversão entre graus Celsius e Fahrenheit, que são 1.8 (multiplicador) e 32 (soma constante), respectivamente. Isso demonstra que o modelo foi capaz de capturar de forma eficaz a relação linear existente entre as duas variáveis. O resultado é considerado positivo, pois confirma que o processo de treinamento resultou em uma representação fiel da função matemática esperada, com erro médio absoluto (MAE) mínimo nas previsões. Portanto, o modelo está adequado para realizar previsões precisas de temperatura em Fahrenheit a partir de valores em Celsius.</div>"
      ]
    },
    {
      "cell_type": "markdown",
      "metadata": {},
      "source": [
        "4 - Plotagem do gráfico com as estatísticas de treinamento"
      ]
    },
    {
      "cell_type": "markdown",
      "metadata": {},
      "source": [
        "<div style=\"text-align: justify\">O trecho de código representado, tem como objetivo visualizar graficamente o desempenho do modelo durante o processo de treinamento. Para isso, são plotadas as métricas de erro quadrático médio (MSE) e erro médio absoluto (MAE) ao longo das épocas. Esse tipo de visualização permite analisar a taxa de aprendizagem do modelo, identificando se houve convergência e estabilidade na minimização da função de perda. Dessa forma, o gráfico serve como uma ferramenta de diagnóstico para avaliar a eficiência do treinamento e verificar se ajustes no modelo ou nos hiperparâmetros são necessários.</div>"
      ]
    },
    {
      "cell_type": "code",
      "execution_count": null,
      "metadata": {
        "colab": {
          "base_uri": "https://localhost:8080/",
          "height": 474
        },
        "id": "wyxOEIzeRw32",
        "outputId": "d6ca6e87-01e1-42a0-efb3-b6b4de90b924"
      },
      "outputs": [
        {
          "data": {
            "image/png": "[encoded data removed]",
            "text/plain": [
              "<Figure size 640x480 with 1 Axes>"
            ]
          },
          "metadata": {},
          "output_type": "display_data"
        }
      ],
      "source": [
        "# Etapa 5: Visualização do histórico de treinamento\n",
        "# Plota a curva do erro quadrático médio (loss) registrado em cada época\n",
        "plt.plot(treinamento.history['loss'],\n",
        "         label='Erro Quadrático Médio')\n",
        "# Plota a curva do erro médio absoluto (MAE) registrado em cada época\n",
        "plt.plot(treinamento.history['mae'],\n",
        "         label='Erro Médio Absoluto',\n",
        "         )\n",
        "plt.xlabel(\"Épocas\") # Define o rótulo do eixo X como \"Épocas\"\n",
        "plt.ylabel(\"Perda\") # Define o rótulo do eixo Y como \"Perda\"\n",
        "# Define o título do gráfico\n",
        "plt.title(\"Gráfico de Análise do Histórico do Treinamento\")\n",
        "# Adiciona legenda para identificar as métricas\n",
        "plt.legend()\n",
        "# Adiciona uma grade para facilitar a leitura do gráfico\n",
        "plt.grid(True)\n",
        "# Exibe o gráfico\n",
        "plt.show()"
      ]
    },
    {
      "cell_type": "markdown",
      "metadata": {},
      "source": [
        "<div style=\"text-align: justify\">O gráfico acima apresenta a análise do histórico de treinamento do modelo de regressão, demonstrando a evolução do erro ao longo de 200 épocas. As curvas representam duas métricas de avaliação: o Erro Quadrático Médio (MSE) em azul e o Erro Médio Absoluto (MAE) em laranja. Observa-se uma queda acentuada nos primeiros ciclos de treinamento, indicando um rápido aprendizado inicial por parte do modelo. A partir de aproximadamente 50 épocas, ambas as métricas estabilizam-se próximas de zero, sugerindo que o modelo convergiu adequadamente e atingiu um bom desempenho na minimização do erro. A ausência de oscilações excessivas nas etapas finais também indica que o processo de otimização ocorreu de forma estável e eficaz, refletindo uma boa capacidade de generalização do modelo.</div>\n"
      ]
    },
    {
      "cell_type": "markdown",
      "metadata": {},
      "source": [
        "5 - Teste do modelo com outros valores de temperaturas"
      ]
    },
    {
      "cell_type": "code",
      "execution_count": null,
      "metadata": {
        "colab": {
          "base_uri": "https://localhost:8080/"
        },
        "id": "HzUTsqsYSXSy",
        "outputId": "079fe935-c3ca-43c3-81ea-bfac9f7e2574"
      },
      "outputs": [
        {
          "name": "stdout",
          "output_type": "stream",
          "text": [
            "\u001b[1m1/1\u001b[0m \u001b[32m━━━━━━━━━━━━━━━━━━━━\u001b[0m\u001b[37m\u001b[0m \u001b[1m0s\u001b[0m 80ms/step\n"
          ]
        }
      ],
      "source": [
        "# Etapa 6: Teste com novos valores\n",
        "# 10 novos valores de entrada em Celsius para testar o modelo treinado\n",
        "graus_celsius2 = np.array([-20, -5, 5, 10, 20, 25, 30, 35, 40, 50], dtype=float)\n",
        "\n",
        "# Previsões para os novos valores\n",
        "previsoes_modelo = modelo.predict(graus_celsius2)\n",
        "# Fórmula de conversão para visualização na tabela e comparação das previsões do modelo\n",
        "farh_reais = graus_celsius2 * 1.8 + 32"
      ]
    },
    {
      "cell_type": "markdown",
      "metadata": {},
      "source": [
        "Tabela de comparação de valores"
      ]
    },
    {
      "cell_type": "code",
      "execution_count": null,
      "metadata": {
        "colab": {
          "base_uri": "https://localhost:8080/"
        },
        "id": "zdPd5erSTRYz",
        "outputId": "1209c329-f307-4dce-d8dd-f9a973353f70"
      },
      "outputs": [
        {
          "name": "stdout",
          "output_type": "stream",
          "text": [
            "   Graus Celsius  Previsão do Modelo  Fahrenheit Real\n",
            "0          -20.0           -3.969255             -4.0\n",
            "1           -5.0           22.977627             23.0\n",
            "2            5.0           40.942215             41.0\n",
            "3           10.0           49.924507             50.0\n",
            "4           20.0           67.889099             68.0\n",
            "5           25.0           76.871391             77.0\n",
            "6           30.0           85.853683             86.0\n",
            "7           35.0           94.835983             95.0\n",
            "8           40.0          103.818275            104.0\n",
            "9           50.0          121.782867            122.0\n"
          ]
        }
      ],
      "source": [
        "# Etapa 7: Tabela comparativa de resultados\n",
        "# Tabela com os valores de entrada, a previsão do modelo e o valor real\n",
        "resultados_df = pd.DataFrame({\n",
        "    'Graus Celsius': graus_celsius2,\n",
        "    'Previsão do Modelo': previsoes_modelo.flatten(),\n",
        "    'Fahrenheit Real': farh_reais\n",
        "})\n",
        "# Tabela com os resultados\n",
        "print(resultados_df)"
      ]
    },
    {
      "cell_type": "markdown",
      "metadata": {},
      "source": [
        "<div style=\"text-align: justify\">A tabela acima compara os valores de temperatura em Graus Celsius com as respectivas previsões do modelo e os valores reais em Graus Fahrenheit. Os resultados evidenciam que o modelo treinado possui alta precisão, com as previsões se aproximando fortemente dos valores reais, apresentando diferenças mínimas, geralmente inferiores a 0,05 unidades.</div>"
      ]
    },
    {
      "cell_type": "markdown",
      "metadata": {},
      "source": [
        "<div style=\"text-align: justify\">Essa proximidade indica que o modelo aprendeu corretamente a relação linear entre Celsius e Fahrenheit, validando a eficácia do treinamento realizado. Portanto, a tabela reforça que o modelo é confiável para conversões dentro do intervalo analisado.</div>"
      ]
    },
    {
      "cell_type": "markdown",
      "metadata": {},
      "source": [
        "<div style=\"text-align: justify\">Para reforçar a exatidão do modelo foi construído o código que pode ser observado abaixo. O algoritmo calcula o Erro Médio Absoluto (MAE) entre os valores reais de temperatura em Fahrenheit e as previsões geradas pelo modelo treinado. O MAE é uma métrica de avaliação que mede a média das diferenças absolutas entre os valores previstos e os reais, fornecendo uma estimativa direta e interpretável do quão precisas são as previsões do modelo.</div>"
      ]
    },
    {
      "cell_type": "code",
      "execution_count": null,
      "metadata": {
        "colab": {
          "base_uri": "https://localhost:8080/"
        },
        "id": "XepYM52oTfZu",
        "outputId": "0476b7e0-3019-4450-dcd5-38c8b155a19d"
      },
      "outputs": [
        {
          "name": "stdout",
          "output_type": "stream",
          "text": [
            "\n",
            "Erro médio absoluto (MAE): 0.11\n"
          ]
        }
      ],
      "source": [
        "# Calcula o erro médio absoluto entre os valores reais e as previsões do modelo\n",
        "mae = mean_absolute_error(\n",
        "    farh_reais,\n",
        "    previsoes_modelo\n",
        ")\n",
        "# Exibe o valor do erro médio absoluto com duas casas decimais\n",
        "print(f\"\\nErro médio absoluto (MAE): {mae:.2f}\")"
      ]
    },
    {
      "cell_type": "markdown",
      "metadata": {},
      "source": [
        "<div style=\"text-align: justify\">O resultado obtido do MAE foi 0.11, o que significa que, em média, a diferença entre as previsões do modelo e os valores reais de temperatura é de apenas 0.11 graus Fahrenheit. Este valor extremamente baixo confirma que o modelo possui alta precisão e generalização, sendo capaz de representar corretamente a conversão entre graus Celsius e Fahrenheit. Esse desempenho confirma que os parâmetros aprendidos (peso e viés) capturaram com fidelidade a relação linear esperada na conversão de temperatura.</div>"
      ]
    }
  ],
  "metadata": {
    "colab": {
      "provenance": []
    },
    "kernelspec": {
      "display_name": "Python 3",
      "name": "python3"
    },
    "language_info": {
      "name": "python"
    }
  },
  "nbformat": 4,
  "nbformat_minor": 0
}
