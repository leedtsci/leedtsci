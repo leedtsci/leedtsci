{
 "cells": [
  {
   "cell_type": "markdown",
   "id": "b214d8fd-7199-42a8-827e-11e75c10e45a",
   "metadata": {},
   "source": [
    "# Portfólio Fundamentos da Inteligência Artificial \n",
    "\n",
    "### - Desenvolvimento de uma Rede Neural Artificial Simples - Porta Lógica XOR"
   ]
  },
  {
   "cell_type": "markdown",
   "id": "09de478d-2718-499a-83fb-d1ac6ed1ac70",
   "metadata": {},
   "source": [
    "- Importação das Bibliotecas Necessárias"
   ]
  },
  {
   "cell_type": "code",
   "execution_count": 4,
   "id": "8d593337-eaab-4df1-8b4d-1dcd05b74411",
   "metadata": {},
   "outputs": [],
   "source": [
    "# Bibliotecas Necessárias\n",
    "import numpy as np # Criação da Rede Neural Simples\n",
    "import matplotlib.pyplot as plt # Impressão do gráfico de erros da Rede Neural"
   ]
  },
  {
   "cell_type": "markdown",
   "id": "171c2b8f-4a93-4ad0-b75f-16a941c8b63c",
   "metadata": {},
   "source": [
    "- Definição da função Sigmoide a derivada"
   ]
  },
  {
   "cell_type": "code",
   "execution_count": 6,
   "id": "0e44d579-cb60-478c-b7cd-07ff1d41c9f3",
   "metadata": {},
   "outputs": [],
   "source": [
    "# Definição da Função Sigmoide utilizada tanto para a ativação quanto derivada para o cálculo do gradiente.\n",
    "def funcao_sigmoide(x):\n",
    "    return 1 / (1 + np.exp(-x))"
   ]
  },
  {
   "cell_type": "code",
   "execution_count": 7,
   "id": "dacbcc31-1c25-4713-8be0-41017cbcb093",
   "metadata": {},
   "outputs": [],
   "source": [
    "# Derivada da função sigmoide\n",
    "def derivada_sigmoide(x):\n",
    "    return x * (1 - x)"
   ]
  },
  {
   "cell_type": "markdown",
   "id": "12cc30f9-3f54-4d7d-9769-7df5d456f29f",
   "metadata": {},
   "source": [
    "- Definição das Entradas e Saídas:"
   ]
  },
  {
   "cell_type": "code",
   "execution_count": 9,
   "id": "f27c5700-334f-471f-bde1-f75b1c4dff9b",
   "metadata": {},
   "outputs": [],
   "source": [
    "# Definição da Entrada X\n",
    "X = np.array([[0, 0],\n",
    "              [0, 1],\n",
    "              [1, 0],\n",
    "              [1, 1]])"
   ]
  },
  {
   "cell_type": "code",
   "execution_count": 10,
   "id": "bbb43901-a250-4eae-99b7-f765e6433a80",
   "metadata": {},
   "outputs": [],
   "source": [
    "# Definição da saída y\n",
    "y = np.array([[0], [1], [1], [0]])"
   ]
  },
  {
   "cell_type": "markdown",
   "id": "79ec1e03-fafd-4bfd-8814-dc7889b9fcb1",
   "metadata": {},
   "source": [
    "- Inicialização dos Pesos"
   ]
  },
  {
   "cell_type": "code",
   "execution_count": 12,
   "id": "d44c3875-8357-46e6-af4d-817a1b35968e",
   "metadata": {},
   "outputs": [],
   "source": [
    "np.random.seed(1) # definindo uma semente para o gerador de números aleatórios\n",
    "cam_neuronios_ent = X.shape[1]  # Qtde de neurônios na camada de entrada (2)\n",
    "neuronios_ocultos = 4  # Qtde. de neurônios na camada oculta\n",
    "neuronios_saida = 1  # Qtde. de neurônios na camada de saída\n",
    "# Inicializa os pesos das sinapses da camada de entrada com valores aleatórios uniformemente distribuídos\n",
    "pesos_ent_oculta = np.random.uniform(size=(cam_neuronios_ent, neuronios_ocultos))\n",
    "# Inicializa os pesos das sinapses da camada de saída com valores aleatórios uniformemente distribuídos\n",
    "pesos_sai_oculta = np.random.uniform(size=(neuronios_ocultos, neuronios_saida))"
   ]
  },
  {
   "cell_type": "markdown",
   "id": "c76a432b-50f0-41c8-a892-eed3a6e2a651",
   "metadata": {},
   "source": [
    "- Treinamento da Rede Neural:"
   ]
  },
  {
   "cell_type": "code",
   "execution_count": 14,
   "id": "940370b9-ce85-40e9-8ab2-dd81336c1a84",
   "metadata": {},
   "outputs": [],
   "source": [
    "# Loop Treinamento da Rede Neural\n",
    "iteracoes = 10000 # Qtde. de iterações solicitadas na proposta\n",
    "lista_erros = [] # Criando lista de erros para exibir gráfico\n",
    "\n",
    "for _ in range(iteracoes):\n",
    "    # propagação para frente calculando as saídas\n",
    "    ativ_cam_oculta = np.dot(X, pesos_ent_oculta)\n",
    "    sai_cam_oculta = funcao_sigmoide(ativ_cam_oculta)\n",
    "    \n",
    "    ativ_cam_saida = np.dot(sai_cam_oculta, pesos_sai_oculta)\n",
    "    saida_prevista = funcao_sigmoide(ativ_cam_saida)\n",
    "    \n",
    "    # Cálculo do erro\n",
    "    erro = y - saida_prevista\n",
    "    lista_erros.append(np.mean(np.abs(erro)))  # Armazena o erro médio absoluto\n",
    "    \n",
    "    # Calcule o delta (ajuste dos pesos) utilizando a derivada da função sigmoide\n",
    "    ajusta_sai_prev = erro * derivada_sigmoide(saida_prevista)\n",
    "    erro_cam_oculta = ajusta_sai_prev.dot(pesos_sai_oculta.T)\n",
    "    ajusta_cam_oculta = erro_cam_oculta * derivada_sigmoide(sai_cam_oculta)\n",
    "    \n",
    "    # Atualize os pesos da sinapse\n",
    "    pesos_sai_oculta += sai_cam_oculta.T.dot(ajusta_sai_prev)\n",
    "    pesos_ent_oculta += X.T.dot(ajusta_cam_oculta)"
   ]
  },
  {
   "cell_type": "markdown",
   "id": "e62a86ca-6fb3-4dbf-8003-759c5ed7dfc4",
   "metadata": {},
   "source": [
    "- Exibição dos resultados"
   ]
  },
  {
   "cell_type": "code",
   "execution_count": 16,
   "id": "5119a384-0e8f-4799-9a23-4724dc8ac970",
   "metadata": {},
   "outputs": [
    {
     "name": "stdout",
     "output_type": "stream",
     "text": [
      "Saídas previstas:\n",
      " [[0.01698737]\n",
      " [0.98275059]\n",
      " [0.98429484]\n",
      " [0.01631357]]\n"
     ]
    }
   ],
   "source": [
    "# Exibição dos Resultados\n",
    "previsoes = funcao_sigmoide(np.dot(funcao_sigmoide(np.dot(X, pesos_ent_oculta)), pesos_sai_oculta))\n",
    "print(\"Saídas previstas:\\n\", previsoes)"
   ]
  },
  {
   "cell_type": "markdown",
   "id": "48048433-fa78-4676-b23c-148a0f49080c",
   "metadata": {},
   "source": [
    "- Exibindo o gráfico de erros no treinamento"
   ]
  },
  {
   "cell_type": "code",
   "execution_count": 18,
   "id": "b75e2499-d75a-438b-9dff-8b93d53ad848",
   "metadata": {},
   "outputs": [
    {
     "data": {
      "image/png": "[encoded data removed]",
      "text/plain": [
       "<Figure size 640x480 with 1 Axes>"
      ]
     },
     "metadata": {},
     "output_type": "display_data"
    }
   ],
   "source": [
    "# Exibir o gráfico do erro\n",
    "plt.plot(lista_erros)\n",
    "plt.title('Erro durante o treinamento')\n",
    "plt.xlabel('Iterações')\n",
    "plt.ylabel('Erro médio absoluto')\n",
    "plt.show()"
   ]
  }
 ],
 "metadata": {
  "kernelspec": {
   "display_name": "Python 3 (ipykernel)",
   "language": "python",
   "name": "python3"
  },
  "language_info": {
   "codemirror_mode": {
    "name": "ipython",
    "version": 3
   },
   "file_extension": ".py",
   "mimetype": "text/x-python",
   "name": "python",
   "nbconvert_exporter": "python",
   "pygments_lexer": "ipython3",
   "version": "3.9.18"
  }
 },
 "nbformat": 4,
 "nbformat_minor": 5
}
