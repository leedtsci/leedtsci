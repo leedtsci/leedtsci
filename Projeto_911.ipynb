{
 "cells": [
  {
   "cell_type": "markdown",
   "id": "17f29715-b655-4ceb-a9a4-aeef31da6405",
   "metadata": {},
   "source": [
    "* PROJETO - ANALISAR OS DADOS DAS CHAMADAS REALIZADAS PARA O 911\n",
    "\n",
    "   Significado dos nomes das colunas da tabela:\n",
    "   - lat = Latitude;\n",
    "   - lng = Longitude;\n",
    "   - desc = Descição do local/data;\n",
    "   - zip = CEP;\n",
    "   - title = Titulo da Ligação;\n",
    "   - timeStamp = Data/Hora da Ligação;\n",
    "   - twp = Município da Ligação;\n",
    "   - addr = Endereço da Ligação;\n",
    "   - e = Simulado? \"0 = Não\" \"1 = Sim\""
   ]
  },
  {
   "cell_type": "markdown",
   "id": "8783bf36-ea03-43bb-bec4-2529da77859d",
   "metadata": {},
   "source": [
    "- Tratamento/Limpeza dos dados"
   ]
  },
  {
   "cell_type": "code",
   "execution_count": 44,
   "id": "02730e85-0d41-4fe3-97d8-0a9b56120fe4",
   "metadata": {},
   "outputs": [],
   "source": [
    "#Importando as bibliotecas necessárias para o projeto\n",
    "import pandas as pd\n",
    "import matplotlib.pyplot as plt\n",
    "\n",
    "# Definindo a visualização de todas as colunas no print\n",
    "pd.set_option('display.max_columns', None)\n",
    "# Embutindo os graficos no notebook, juntamente com o código\n",
    "%matplotlib inline"
   ]
  },
  {
   "cell_type": "code",
   "execution_count": 45,
   "id": "4ebf0395-35d3-495a-a58f-6c035386fec6",
   "metadata": {},
   "outputs": [],
   "source": [
    "# Carregando a base de dados\n",
    "base_ligacoes = pd.read_csv('911.csv')"
   ]
  },
  {
   "cell_type": "code",
   "execution_count": 47,
   "id": "007b4d49-d778-4fcd-87f1-a1f3e77ea705",
   "metadata": {},
   "outputs": [],
   "source": [
    "# Renomeando as colunas da planilha\n",
    "base_ligacoes = base_ligacoes.rename(\n",
    "    columns={'lat': 'Latitude', 'lng': 'Longitude', 'desc': 'LocalChamada', 'zip': 'CEP', 'title': 'SetorCausaChamada',\n",
    "                         'timeStamp': 'DataHora', 'twp': 'Município', 'addr': 'Endereço', 'e':  'Simulado'})"
   ]
  },
  {
   "cell_type": "code",
   "execution_count": 48,
   "id": "818b82fa-97c0-44d5-a46f-86b18051cb29",
   "metadata": {},
   "outputs": [
    {
     "data": {
      "text/plain": [
       "(99492, 9)"
      ]
     },
     "execution_count": 48,
     "metadata": {},
     "output_type": "execute_result"
    }
   ],
   "source": [
    "# Verificando a quantidade de linhas e colunas da base de dados\n",
    "base_ligacoes.shape"
   ]
  },
  {
   "cell_type": "code",
   "execution_count": 49,
   "id": "01f0e892-1256-4db6-9e97-8726cce274d6",
   "metadata": {
    "scrolled": true
   },
   "outputs": [
    {
     "data": {
      "text/html": [
       "<div>\n",
       "<style scoped>\n",
       "    .dataframe tbody tr th:only-of-type {\n",
       "        vertical-align: middle;\n",
       "    }\n",
       "\n",
       "    .dataframe tbody tr th {\n",
       "        vertical-align: top;\n",
       "    }\n",
       "\n",
       "    .dataframe thead th {\n",
       "        text-align: right;\n",
       "    }\n",
       "</style>\n",
       "<table border=\"1\" class=\"dataframe\">\n",
       "  <thead>\n",
       "    <tr style=\"text-align: right;\">\n",
       "      <th></th>\n",
       "      <th>Latitude</th>\n",
       "      <th>Longitude</th>\n",
       "      <th>LocalChamada</th>\n",
       "      <th>CEP</th>\n",
       "      <th>SetorCausaChamada</th>\n",
       "      <th>DataHora</th>\n",
       "      <th>Município</th>\n",
       "      <th>Endereço</th>\n",
       "      <th>Simulado</th>\n",
       "    </tr>\n",
       "  </thead>\n",
       "  <tbody>\n",
       "    <tr>\n",
       "      <th>0</th>\n",
       "      <td>40.297876</td>\n",
       "      <td>-75.581294</td>\n",
       "      <td>REINDEER CT &amp; DEAD END;  NEW HANOVER; Station ...</td>\n",
       "      <td>19525.0</td>\n",
       "      <td>EMS: BACK PAINS/INJURY</td>\n",
       "      <td>2015-12-10 17:40:00</td>\n",
       "      <td>NEW HANOVER</td>\n",
       "      <td>REINDEER CT &amp; DEAD END</td>\n",
       "      <td>1</td>\n",
       "    </tr>\n",
       "    <tr>\n",
       "      <th>1</th>\n",
       "      <td>40.258061</td>\n",
       "      <td>-75.264680</td>\n",
       "      <td>BRIAR PATH &amp; WHITEMARSH LN;  HATFIELD TOWNSHIP...</td>\n",
       "      <td>19446.0</td>\n",
       "      <td>EMS: DIABETIC EMERGENCY</td>\n",
       "      <td>2015-12-10 17:40:00</td>\n",
       "      <td>HATFIELD TOWNSHIP</td>\n",
       "      <td>BRIAR PATH &amp; WHITEMARSH LN</td>\n",
       "      <td>1</td>\n",
       "    </tr>\n",
       "    <tr>\n",
       "      <th>2</th>\n",
       "      <td>40.121182</td>\n",
       "      <td>-75.351975</td>\n",
       "      <td>HAWS AVE; NORRISTOWN; 2015-12-10 @ 14:39:21-St...</td>\n",
       "      <td>19401.0</td>\n",
       "      <td>Fire: GAS-ODOR/LEAK</td>\n",
       "      <td>2015-12-10 17:40:00</td>\n",
       "      <td>NORRISTOWN</td>\n",
       "      <td>HAWS AVE</td>\n",
       "      <td>1</td>\n",
       "    </tr>\n",
       "    <tr>\n",
       "      <th>3</th>\n",
       "      <td>40.116153</td>\n",
       "      <td>-75.343513</td>\n",
       "      <td>AIRY ST &amp; SWEDE ST;  NORRISTOWN; Station 308A;...</td>\n",
       "      <td>19401.0</td>\n",
       "      <td>EMS: CARDIAC EMERGENCY</td>\n",
       "      <td>2015-12-10 17:40:01</td>\n",
       "      <td>NORRISTOWN</td>\n",
       "      <td>AIRY ST &amp; SWEDE ST</td>\n",
       "      <td>1</td>\n",
       "    </tr>\n",
       "    <tr>\n",
       "      <th>4</th>\n",
       "      <td>40.251492</td>\n",
       "      <td>-75.603350</td>\n",
       "      <td>CHERRYWOOD CT &amp; DEAD END;  LOWER POTTSGROVE; S...</td>\n",
       "      <td>NaN</td>\n",
       "      <td>EMS: DIZZINESS</td>\n",
       "      <td>2015-12-10 17:40:01</td>\n",
       "      <td>LOWER POTTSGROVE</td>\n",
       "      <td>CHERRYWOOD CT &amp; DEAD END</td>\n",
       "      <td>1</td>\n",
       "    </tr>\n",
       "  </tbody>\n",
       "</table>\n",
       "</div>"
      ],
      "text/plain": [
       "    Latitude  Longitude                                       LocalChamada  \\\n",
       "0  40.297876 -75.581294  REINDEER CT & DEAD END;  NEW HANOVER; Station ...   \n",
       "1  40.258061 -75.264680  BRIAR PATH & WHITEMARSH LN;  HATFIELD TOWNSHIP...   \n",
       "2  40.121182 -75.351975  HAWS AVE; NORRISTOWN; 2015-12-10 @ 14:39:21-St...   \n",
       "3  40.116153 -75.343513  AIRY ST & SWEDE ST;  NORRISTOWN; Station 308A;...   \n",
       "4  40.251492 -75.603350  CHERRYWOOD CT & DEAD END;  LOWER POTTSGROVE; S...   \n",
       "\n",
       "       CEP        SetorCausaChamada             DataHora          Município  \\\n",
       "0  19525.0   EMS: BACK PAINS/INJURY  2015-12-10 17:40:00        NEW HANOVER   \n",
       "1  19446.0  EMS: DIABETIC EMERGENCY  2015-12-10 17:40:00  HATFIELD TOWNSHIP   \n",
       "2  19401.0      Fire: GAS-ODOR/LEAK  2015-12-10 17:40:00         NORRISTOWN   \n",
       "3  19401.0   EMS: CARDIAC EMERGENCY  2015-12-10 17:40:01         NORRISTOWN   \n",
       "4      NaN           EMS: DIZZINESS  2015-12-10 17:40:01   LOWER POTTSGROVE   \n",
       "\n",
       "                     Endereço  Simulado  \n",
       "0      REINDEER CT & DEAD END         1  \n",
       "1  BRIAR PATH & WHITEMARSH LN         1  \n",
       "2                    HAWS AVE         1  \n",
       "3          AIRY ST & SWEDE ST         1  \n",
       "4    CHERRYWOOD CT & DEAD END         1  "
      ]
     },
     "execution_count": 49,
     "metadata": {},
     "output_type": "execute_result"
    }
   ],
   "source": [
    "# Exibindo as 5 primeiras linhas da base de dados\n",
    "base_ligacoes.head()"
   ]
  },
  {
   "cell_type": "code",
   "execution_count": 50,
   "id": "7bcf52b0-38ea-4ef0-9287-65e5659101ff",
   "metadata": {},
   "outputs": [
    {
     "data": {
      "text/html": [
       "<div>\n",
       "<style scoped>\n",
       "    .dataframe tbody tr th:only-of-type {\n",
       "        vertical-align: middle;\n",
       "    }\n",
       "\n",
       "    .dataframe tbody tr th {\n",
       "        vertical-align: top;\n",
       "    }\n",
       "\n",
       "    .dataframe thead th {\n",
       "        text-align: right;\n",
       "    }\n",
       "</style>\n",
       "<table border=\"1\" class=\"dataframe\">\n",
       "  <thead>\n",
       "    <tr style=\"text-align: right;\">\n",
       "      <th></th>\n",
       "      <th>Latitude</th>\n",
       "      <th>Longitude</th>\n",
       "      <th>LocalChamada</th>\n",
       "      <th>CEP</th>\n",
       "      <th>SetorCausaChamada</th>\n",
       "      <th>DataHora</th>\n",
       "      <th>Município</th>\n",
       "      <th>Endereço</th>\n",
       "      <th>Simulado</th>\n",
       "    </tr>\n",
       "  </thead>\n",
       "  <tbody>\n",
       "    <tr>\n",
       "      <th>99487</th>\n",
       "      <td>40.132869</td>\n",
       "      <td>-75.333515</td>\n",
       "      <td>MARKLEY ST &amp; W LOGAN ST; NORRISTOWN; 2016-08-2...</td>\n",
       "      <td>19401.0</td>\n",
       "      <td>Traffic: VEHICLE ACCIDENT -</td>\n",
       "      <td>2016-08-24 11:06:00</td>\n",
       "      <td>NORRISTOWN</td>\n",
       "      <td>MARKLEY ST &amp; W LOGAN ST</td>\n",
       "      <td>1</td>\n",
       "    </tr>\n",
       "    <tr>\n",
       "      <th>99488</th>\n",
       "      <td>40.006974</td>\n",
       "      <td>-75.289080</td>\n",
       "      <td>LANCASTER AVE &amp; RITTENHOUSE PL; LOWER MERION; ...</td>\n",
       "      <td>19003.0</td>\n",
       "      <td>Traffic: VEHICLE ACCIDENT -</td>\n",
       "      <td>2016-08-24 11:07:02</td>\n",
       "      <td>LOWER MERION</td>\n",
       "      <td>LANCASTER AVE &amp; RITTENHOUSE PL</td>\n",
       "      <td>1</td>\n",
       "    </tr>\n",
       "    <tr>\n",
       "      <th>99489</th>\n",
       "      <td>40.115429</td>\n",
       "      <td>-75.334679</td>\n",
       "      <td>CHESTNUT ST &amp; WALNUT ST;  NORRISTOWN; Station ...</td>\n",
       "      <td>19401.0</td>\n",
       "      <td>EMS: FALL VICTIM</td>\n",
       "      <td>2016-08-24 11:12:00</td>\n",
       "      <td>NORRISTOWN</td>\n",
       "      <td>CHESTNUT ST &amp; WALNUT ST</td>\n",
       "      <td>1</td>\n",
       "    </tr>\n",
       "    <tr>\n",
       "      <th>99490</th>\n",
       "      <td>40.186431</td>\n",
       "      <td>-75.192555</td>\n",
       "      <td>WELSH RD &amp; WEBSTER LN;  HORSHAM; Station 352; ...</td>\n",
       "      <td>19002.0</td>\n",
       "      <td>EMS: NAUSEA/VOMITING</td>\n",
       "      <td>2016-08-24 11:17:01</td>\n",
       "      <td>HORSHAM</td>\n",
       "      <td>WELSH RD &amp; WEBSTER LN</td>\n",
       "      <td>1</td>\n",
       "    </tr>\n",
       "    <tr>\n",
       "      <th>99491</th>\n",
       "      <td>40.207055</td>\n",
       "      <td>-75.317952</td>\n",
       "      <td>MORRIS RD &amp; S BROAD ST; UPPER GWYNEDD; 2016-08...</td>\n",
       "      <td>19446.0</td>\n",
       "      <td>Traffic: VEHICLE ACCIDENT -</td>\n",
       "      <td>2016-08-24 11:17:02</td>\n",
       "      <td>UPPER GWYNEDD</td>\n",
       "      <td>MORRIS RD &amp; S BROAD ST</td>\n",
       "      <td>1</td>\n",
       "    </tr>\n",
       "  </tbody>\n",
       "</table>\n",
       "</div>"
      ],
      "text/plain": [
       "        Latitude  Longitude  \\\n",
       "99487  40.132869 -75.333515   \n",
       "99488  40.006974 -75.289080   \n",
       "99489  40.115429 -75.334679   \n",
       "99490  40.186431 -75.192555   \n",
       "99491  40.207055 -75.317952   \n",
       "\n",
       "                                            LocalChamada      CEP  \\\n",
       "99487  MARKLEY ST & W LOGAN ST; NORRISTOWN; 2016-08-2...  19401.0   \n",
       "99488  LANCASTER AVE & RITTENHOUSE PL; LOWER MERION; ...  19003.0   \n",
       "99489  CHESTNUT ST & WALNUT ST;  NORRISTOWN; Station ...  19401.0   \n",
       "99490  WELSH RD & WEBSTER LN;  HORSHAM; Station 352; ...  19002.0   \n",
       "99491  MORRIS RD & S BROAD ST; UPPER GWYNEDD; 2016-08...  19446.0   \n",
       "\n",
       "                 SetorCausaChamada             DataHora      Município  \\\n",
       "99487  Traffic: VEHICLE ACCIDENT -  2016-08-24 11:06:00     NORRISTOWN   \n",
       "99488  Traffic: VEHICLE ACCIDENT -  2016-08-24 11:07:02   LOWER MERION   \n",
       "99489             EMS: FALL VICTIM  2016-08-24 11:12:00     NORRISTOWN   \n",
       "99490         EMS: NAUSEA/VOMITING  2016-08-24 11:17:01        HORSHAM   \n",
       "99491  Traffic: VEHICLE ACCIDENT -  2016-08-24 11:17:02  UPPER GWYNEDD   \n",
       "\n",
       "                             Endereço  Simulado  \n",
       "99487         MARKLEY ST & W LOGAN ST         1  \n",
       "99488  LANCASTER AVE & RITTENHOUSE PL         1  \n",
       "99489         CHESTNUT ST & WALNUT ST         1  \n",
       "99490           WELSH RD & WEBSTER LN         1  \n",
       "99491          MORRIS RD & S BROAD ST         1  "
      ]
     },
     "execution_count": 50,
     "metadata": {},
     "output_type": "execute_result"
    }
   ],
   "source": [
    "# Exibindo as 5 últimas linhas para verificar se existem valores totais no fim da planilha\n",
    "base_ligacoes.tail()"
   ]
  },
  {
   "cell_type": "code",
   "execution_count": 51,
   "id": "9585c753-8817-4d81-9bfd-6e559353921d",
   "metadata": {},
   "outputs": [
    {
     "data": {
      "text/plain": [
       "np.int64(0)"
      ]
     },
     "execution_count": 51,
     "metadata": {},
     "output_type": "execute_result"
    }
   ],
   "source": [
    "# Verificando a existência de linhas duplicados\n",
    "base_ligacoes.duplicated().sum()"
   ]
  },
  {
   "cell_type": "code",
   "execution_count": 52,
   "id": "8317a540-0764-4bbe-ae59-9d099943b330",
   "metadata": {},
   "outputs": [
    {
     "data": {
      "text/plain": [
       "np.int64(50900)"
      ]
     },
     "execution_count": 52,
     "metadata": {},
     "output_type": "execute_result"
    }
   ],
   "source": [
    "# Verficando se a coluna 'desc' possui espaços múltiplos (espaços desnecessários)\n",
    "base_ligacoes['LocalChamada'].str.contains(r'\\s{2,}', regex=True).sum()"
   ]
  },
  {
   "cell_type": "code",
   "execution_count": 53,
   "id": "65a5d1bf-4d77-4c76-85c9-76068c543f7c",
   "metadata": {},
   "outputs": [],
   "source": [
    "# Existem 50900 espaços desnecessários na coluna 'desc'.\n",
    "    # Removendo os espaços desnecessários da coluna\n",
    "base_ligacoes['LocalChamada'] = base_ligacoes['LocalChamada'].str.strip().str.replace(r'\\s+', ' ', regex=True)"
   ]
  },
  {
   "cell_type": "code",
   "execution_count": 54,
   "id": "ba74d71c-58de-4a37-bac4-d45beda006ae",
   "metadata": {
    "scrolled": true
   },
   "outputs": [
    {
     "name": "stdout",
     "output_type": "stream",
     "text": [
      "<class 'pandas.core.frame.DataFrame'>\n",
      "RangeIndex: 99492 entries, 0 to 99491\n",
      "Data columns (total 9 columns):\n",
      " #   Column             Non-Null Count  Dtype  \n",
      "---  ------             --------------  -----  \n",
      " 0   Latitude           99492 non-null  float64\n",
      " 1   Longitude          99492 non-null  float64\n",
      " 2   LocalChamada       99492 non-null  object \n",
      " 3   CEP                86637 non-null  float64\n",
      " 4   SetorCausaChamada  99492 non-null  object \n",
      " 5   DataHora           99492 non-null  object \n",
      " 6   Município          99449 non-null  object \n",
      " 7   Endereço           98973 non-null  object \n",
      " 8   Simulado           99492 non-null  int64  \n",
      "dtypes: float64(3), int64(1), object(5)\n",
      "memory usage: 6.8+ MB\n"
     ]
    }
   ],
   "source": [
    "# Verificando as informações dos dados\n",
    "base_ligacoes.info()"
   ]
  },
  {
   "cell_type": "code",
   "execution_count": 55,
   "id": "d8330394-02e9-4472-9584-33bd1e3c3503",
   "metadata": {},
   "outputs": [
    {
     "data": {
      "text/plain": [
       "CEP                  12855\n",
       "Endereço               519\n",
       "Município               43\n",
       "Latitude                 0\n",
       "Longitude                0\n",
       "SetorCausaChamada        0\n",
       "LocalChamada             0\n",
       "DataHora                 0\n",
       "Simulado                 0\n",
       "dtype: int64"
      ]
     },
     "execution_count": 55,
     "metadata": {},
     "output_type": "execute_result"
    }
   ],
   "source": [
    "# Verificando dados nulos nas colunas por ordem de grandeza quantitativa\n",
    "base_ligacoes.isnull().sum().sort_values(ascending=False)"
   ]
  },
  {
   "cell_type": "code",
   "execution_count": 56,
   "id": "6a9e764e-324b-4434-a48f-d7348bfdfcc4",
   "metadata": {},
   "outputs": [
    {
     "data": {
      "text/plain": [
       "CEP                 12.92%\n",
       "Endereço             0.52%\n",
       "Município            0.04%\n",
       "Latitude             0.00%\n",
       "Longitude            0.00%\n",
       "SetorCausaChamada    0.00%\n",
       "LocalChamada         0.00%\n",
       "DataHora             0.00%\n",
       "Simulado             0.00%\n",
       "dtype: float64"
      ]
     },
     "metadata": {},
     "output_type": "display_data"
    }
   ],
   "source": [
    "# Formatando o visualização percentual para duas casas decimais\n",
    "with pd.option_context(\"float_format\", \"{:.2%}\".format):\n",
    "    # Verificando os dados nulos nas colunas por ordem de grandeza percentual\n",
    "    display(base_ligacoes.isnull().sum().sort_values(ascending=False) / base_ligacoes.shape[0])"
   ]
  },
  {
   "cell_type": "code",
   "execution_count": 57,
   "id": "e88b02d2-8afb-479b-a6d1-1090be0628f9",
   "metadata": {
    "scrolled": true
   },
   "outputs": [
    {
     "data": {
      "text/html": [
       "<div>\n",
       "<style scoped>\n",
       "    .dataframe tbody tr th:only-of-type {\n",
       "        vertical-align: middle;\n",
       "    }\n",
       "\n",
       "    .dataframe tbody tr th {\n",
       "        vertical-align: top;\n",
       "    }\n",
       "\n",
       "    .dataframe thead th {\n",
       "        text-align: right;\n",
       "    }\n",
       "</style>\n",
       "<table border=\"1\" class=\"dataframe\">\n",
       "  <thead>\n",
       "    <tr style=\"text-align: right;\">\n",
       "      <th></th>\n",
       "      <th>Latitude</th>\n",
       "      <th>Longitude</th>\n",
       "      <th>CEP</th>\n",
       "      <th>Simulado</th>\n",
       "    </tr>\n",
       "  </thead>\n",
       "  <tbody>\n",
       "    <tr>\n",
       "      <th>count</th>\n",
       "      <td>99492.000000</td>\n",
       "      <td>99492.000000</td>\n",
       "      <td>86637.000000</td>\n",
       "      <td>99492.0</td>\n",
       "    </tr>\n",
       "    <tr>\n",
       "      <th>mean</th>\n",
       "      <td>40.159526</td>\n",
       "      <td>-75.317464</td>\n",
       "      <td>19237.658298</td>\n",
       "      <td>1.0</td>\n",
       "    </tr>\n",
       "    <tr>\n",
       "      <th>std</th>\n",
       "      <td>0.094446</td>\n",
       "      <td>0.174826</td>\n",
       "      <td>345.344914</td>\n",
       "      <td>0.0</td>\n",
       "    </tr>\n",
       "    <tr>\n",
       "      <th>min</th>\n",
       "      <td>30.333596</td>\n",
       "      <td>-95.595595</td>\n",
       "      <td>17752.000000</td>\n",
       "      <td>1.0</td>\n",
       "    </tr>\n",
       "    <tr>\n",
       "      <th>25%</th>\n",
       "      <td>40.100423</td>\n",
       "      <td>-75.392104</td>\n",
       "      <td>19038.000000</td>\n",
       "      <td>1.0</td>\n",
       "    </tr>\n",
       "    <tr>\n",
       "      <th>50%</th>\n",
       "      <td>40.145223</td>\n",
       "      <td>-75.304667</td>\n",
       "      <td>19401.000000</td>\n",
       "      <td>1.0</td>\n",
       "    </tr>\n",
       "    <tr>\n",
       "      <th>75%</th>\n",
       "      <td>40.229008</td>\n",
       "      <td>-75.212513</td>\n",
       "      <td>19446.000000</td>\n",
       "      <td>1.0</td>\n",
       "    </tr>\n",
       "    <tr>\n",
       "      <th>max</th>\n",
       "      <td>41.167156</td>\n",
       "      <td>-74.995041</td>\n",
       "      <td>77316.000000</td>\n",
       "      <td>1.0</td>\n",
       "    </tr>\n",
       "  </tbody>\n",
       "</table>\n",
       "</div>"
      ],
      "text/plain": [
       "           Latitude     Longitude           CEP  Simulado\n",
       "count  99492.000000  99492.000000  86637.000000   99492.0\n",
       "mean      40.159526    -75.317464  19237.658298       1.0\n",
       "std        0.094446      0.174826    345.344914       0.0\n",
       "min       30.333596    -95.595595  17752.000000       1.0\n",
       "25%       40.100423    -75.392104  19038.000000       1.0\n",
       "50%       40.145223    -75.304667  19401.000000       1.0\n",
       "75%       40.229008    -75.212513  19446.000000       1.0\n",
       "max       41.167156    -74.995041  77316.000000       1.0"
      ]
     },
     "execution_count": 57,
     "metadata": {},
     "output_type": "execute_result"
    }
   ],
   "source": [
    "# Analisando as estatísticas dos dados numéricos da base de dados\n",
    "base_ligacoes.describe()"
   ]
  },
  {
   "cell_type": "code",
   "execution_count": 58,
   "id": "bbfa3c57-b114-4dda-8b24-68c9b1547967",
   "metadata": {},
   "outputs": [
    {
     "data": {
      "text/plain": [
       "Latitude             14579\n",
       "Longitude            14586\n",
       "LocalChamada         99455\n",
       "CEP                    104\n",
       "SetorCausaChamada      110\n",
       "DataHora             72577\n",
       "Município               68\n",
       "Endereço             21914\n",
       "Simulado                 1\n",
       "dtype: int64"
      ]
     },
     "execution_count": 58,
     "metadata": {},
     "output_type": "execute_result"
    }
   ],
   "source": [
    "# Verificando o número de valores únicos de cada coluna\n",
    "base_ligacoes.nunique()"
   ]
  },
  {
   "cell_type": "code",
   "execution_count": 59,
   "id": "b71d2d52-7909-4701-a78c-7f4378eed6f8",
   "metadata": {},
   "outputs": [],
   "source": [
    "# Inserindo zero nos dados nulos da coluna \"CEP\"\n",
    "base_ligacoes['CEP'] = base_ligacoes['CEP'].fillna(0.0)"
   ]
  },
  {
   "cell_type": "code",
   "execution_count": 60,
   "id": "b5a79777-f2ed-4150-9433-b901e3a1ddd8",
   "metadata": {},
   "outputs": [
    {
     "name": "stdout",
     "output_type": "stream",
     "text": [
      "<class 'pandas.core.frame.DataFrame'>\n",
      "RangeIndex: 99492 entries, 0 to 99491\n",
      "Data columns (total 9 columns):\n",
      " #   Column             Non-Null Count  Dtype  \n",
      "---  ------             --------------  -----  \n",
      " 0   Latitude           99492 non-null  float64\n",
      " 1   Longitude          99492 non-null  float64\n",
      " 2   LocalChamada       99492 non-null  object \n",
      " 3   CEP                99492 non-null  float64\n",
      " 4   SetorCausaChamada  99492 non-null  object \n",
      " 5   DataHora           99492 non-null  object \n",
      " 6   Município          99492 non-null  object \n",
      " 7   Endereço           99492 non-null  object \n",
      " 8   Simulado           99492 non-null  int64  \n",
      "dtypes: float64(3), int64(1), object(5)\n",
      "memory usage: 6.8+ MB\n"
     ]
    }
   ],
   "source": [
    "# Inserindo a informação \"NA\" nos dados nulos das colunas \"Município\" e \"Endereço\"\n",
    "base_ligacoes[['Município', 'Endereço']] = base_ligacoes[['Município', 'Endereço']].fillna('Não Informado')\n",
    "base_ligacoes.info()"
   ]
  },
  {
   "cell_type": "code",
   "execution_count": 61,
   "id": "326fa1c6-d3a5-4253-9985-1608f8957688",
   "metadata": {},
   "outputs": [
    {
     "data": {
      "text/html": [
       "<div>\n",
       "<style scoped>\n",
       "    .dataframe tbody tr th:only-of-type {\n",
       "        vertical-align: middle;\n",
       "    }\n",
       "\n",
       "    .dataframe tbody tr th {\n",
       "        vertical-align: top;\n",
       "    }\n",
       "\n",
       "    .dataframe thead th {\n",
       "        text-align: right;\n",
       "    }\n",
       "</style>\n",
       "<table border=\"1\" class=\"dataframe\">\n",
       "  <thead>\n",
       "    <tr style=\"text-align: right;\">\n",
       "      <th></th>\n",
       "      <th>Latitude</th>\n",
       "      <th>Longitude</th>\n",
       "      <th>LocalChamada</th>\n",
       "      <th>CEP</th>\n",
       "      <th>SetorCausaChamada</th>\n",
       "      <th>DataHora</th>\n",
       "      <th>Município</th>\n",
       "      <th>Endereço</th>\n",
       "      <th>Simulado</th>\n",
       "    </tr>\n",
       "  </thead>\n",
       "  <tbody>\n",
       "    <tr>\n",
       "      <th>0</th>\n",
       "      <td>40.297876</td>\n",
       "      <td>-75.581294</td>\n",
       "      <td>REINDEER CT &amp; DEAD END; NEW HANOVER; Station 3...</td>\n",
       "      <td>19525.0</td>\n",
       "      <td>EMS: BACK PAINS/INJURY</td>\n",
       "      <td>2015-12-10 17:40:00</td>\n",
       "      <td>NEW HANOVER</td>\n",
       "      <td>REINDEER CT &amp; DEAD END</td>\n",
       "      <td>1</td>\n",
       "    </tr>\n",
       "    <tr>\n",
       "      <th>1</th>\n",
       "      <td>40.258061</td>\n",
       "      <td>-75.264680</td>\n",
       "      <td>BRIAR PATH &amp; WHITEMARSH LN; HATFIELD TOWNSHIP;...</td>\n",
       "      <td>19446.0</td>\n",
       "      <td>EMS: DIABETIC EMERGENCY</td>\n",
       "      <td>2015-12-10 17:40:00</td>\n",
       "      <td>HATFIELD TOWNSHIP</td>\n",
       "      <td>BRIAR PATH &amp; WHITEMARSH LN</td>\n",
       "      <td>1</td>\n",
       "    </tr>\n",
       "    <tr>\n",
       "      <th>2</th>\n",
       "      <td>40.121182</td>\n",
       "      <td>-75.351975</td>\n",
       "      <td>HAWS AVE; NORRISTOWN; 2015-12-10 @ 14:39:21-St...</td>\n",
       "      <td>19401.0</td>\n",
       "      <td>Fire: GAS-ODOR/LEAK</td>\n",
       "      <td>2015-12-10 17:40:00</td>\n",
       "      <td>NORRISTOWN</td>\n",
       "      <td>HAWS AVE</td>\n",
       "      <td>1</td>\n",
       "    </tr>\n",
       "    <tr>\n",
       "      <th>3</th>\n",
       "      <td>40.116153</td>\n",
       "      <td>-75.343513</td>\n",
       "      <td>AIRY ST &amp; SWEDE ST; NORRISTOWN; Station 308A; ...</td>\n",
       "      <td>19401.0</td>\n",
       "      <td>EMS: CARDIAC EMERGENCY</td>\n",
       "      <td>2015-12-10 17:40:01</td>\n",
       "      <td>NORRISTOWN</td>\n",
       "      <td>AIRY ST &amp; SWEDE ST</td>\n",
       "      <td>1</td>\n",
       "    </tr>\n",
       "    <tr>\n",
       "      <th>4</th>\n",
       "      <td>40.251492</td>\n",
       "      <td>-75.603350</td>\n",
       "      <td>CHERRYWOOD CT &amp; DEAD END; LOWER POTTSGROVE; St...</td>\n",
       "      <td>0.0</td>\n",
       "      <td>EMS: DIZZINESS</td>\n",
       "      <td>2015-12-10 17:40:01</td>\n",
       "      <td>LOWER POTTSGROVE</td>\n",
       "      <td>CHERRYWOOD CT &amp; DEAD END</td>\n",
       "      <td>1</td>\n",
       "    </tr>\n",
       "  </tbody>\n",
       "</table>\n",
       "</div>"
      ],
      "text/plain": [
       "    Latitude  Longitude                                       LocalChamada  \\\n",
       "0  40.297876 -75.581294  REINDEER CT & DEAD END; NEW HANOVER; Station 3...   \n",
       "1  40.258061 -75.264680  BRIAR PATH & WHITEMARSH LN; HATFIELD TOWNSHIP;...   \n",
       "2  40.121182 -75.351975  HAWS AVE; NORRISTOWN; 2015-12-10 @ 14:39:21-St...   \n",
       "3  40.116153 -75.343513  AIRY ST & SWEDE ST; NORRISTOWN; Station 308A; ...   \n",
       "4  40.251492 -75.603350  CHERRYWOOD CT & DEAD END; LOWER POTTSGROVE; St...   \n",
       "\n",
       "       CEP        SetorCausaChamada             DataHora          Município  \\\n",
       "0  19525.0   EMS: BACK PAINS/INJURY  2015-12-10 17:40:00        NEW HANOVER   \n",
       "1  19446.0  EMS: DIABETIC EMERGENCY  2015-12-10 17:40:00  HATFIELD TOWNSHIP   \n",
       "2  19401.0      Fire: GAS-ODOR/LEAK  2015-12-10 17:40:00         NORRISTOWN   \n",
       "3  19401.0   EMS: CARDIAC EMERGENCY  2015-12-10 17:40:01         NORRISTOWN   \n",
       "4      0.0           EMS: DIZZINESS  2015-12-10 17:40:01   LOWER POTTSGROVE   \n",
       "\n",
       "                     Endereço  Simulado  \n",
       "0      REINDEER CT & DEAD END         1  \n",
       "1  BRIAR PATH & WHITEMARSH LN         1  \n",
       "2                    HAWS AVE         1  \n",
       "3          AIRY ST & SWEDE ST         1  \n",
       "4    CHERRYWOOD CT & DEAD END         1  "
      ]
     },
     "execution_count": 61,
     "metadata": {},
     "output_type": "execute_result"
    }
   ],
   "source": [
    "base_ligacoes.head()"
   ]
  },
  {
   "cell_type": "code",
   "execution_count": 62,
   "id": "8f4ca57a-b5bf-4ec0-af92-e3fb918e45de",
   "metadata": {},
   "outputs": [],
   "source": [
    "# Criando as colunas 'Data Ligação' para serparar as datas das ligações da coluna 'Data/Hora'\n",
    "base_ligacoes['DataLigação'] = base_ligacoes['DataHora'].apply(lambda x: x.split(' ')[0])\n",
    "# Trandormando os dados da coluna \"dtCall\" de objeto para datetime\n",
    "base_ligacoes['DataLigação'] = pd.to_datetime(base_ligacoes['DataLigação'])\n",
    "# Criando uma coluna com os dias da semana\n",
    "base_ligacoes['DiaSemana'] = base_ligacoes['DataLigação'].dt.day_name()"
   ]
  },
  {
   "cell_type": "code",
   "execution_count": 63,
   "id": "9cdab923-5fbc-4761-82be-2dd0ddddb492",
   "metadata": {},
   "outputs": [],
   "source": [
    "# Criando as colunas 'Inicio Chamada' para separar a hora inicial da ligação da coluna 'Local Chamada'\n",
    "base_ligacoes['InicioChamada'] = base_ligacoes['LocalChamada'].str.extract(r'(\\d{2}:\\d{2}:\\d{2})')\n",
    "# Excluindo a coluna 'desc'\n",
    "base_ligacoes.drop('LocalChamada', axis=1, inplace=True)"
   ]
  },
  {
   "cell_type": "code",
   "execution_count": 64,
   "id": "0d04299d-c211-4422-bd56-4e6bb06242dd",
   "metadata": {},
   "outputs": [],
   "source": [
    "# Criando a coluna 'Termino Chamada' para separar a hora de encerramento da ligação da coluna 'Data/Hora'\n",
    "base_ligacoes['TerminoChamada'] = base_ligacoes['DataHora'].apply(lambda x: x.split(' ')[1])\n",
    "# Excluindo a coluna 'timeStamp' da planilha\n",
    "base_ligacoes.drop('DataHora', axis=1, inplace=True)"
   ]
  },
  {
   "cell_type": "code",
   "execution_count": 65,
   "id": "eb14ca92-c1df-4e4b-986f-e393db55921a",
   "metadata": {},
   "outputs": [],
   "source": [
    "# Criando uma nova coluna no DataFrame chamada 'Sigla Departamento' e 'Motivo Chamada', \n",
    "#  na qual cada valor é obtido a partir da coluna 'Setor/Causa Chamada' sendo dividida pelo caractere ':'\n",
    "base_ligacoes['SiglaDepartamento'] = base_ligacoes['SetorCausaChamada'].apply(lambda x: x.split(':')[0])\n",
    "base_ligacoes['MotivoChamada'] = base_ligacoes['SetorCausaChamada'].apply(lambda x: x.split(':')[1])\n",
    "# Excluindo a coluna 'Setor/Causa Chamada' da planilha\n",
    "base_ligacoes.drop('SetorCausaChamada', axis=1, inplace=True)"
   ]
  },
  {
   "cell_type": "code",
   "execution_count": 66,
   "id": "6362d5f8-e336-4061-95c3-434d0964a155",
   "metadata": {},
   "outputs": [
    {
     "name": "stdout",
     "output_type": "stream",
     "text": [
      "<class 'pandas.core.frame.DataFrame'>\n",
      "RangeIndex: 99492 entries, 0 to 99491\n",
      "Data columns (total 12 columns):\n",
      " #   Column             Non-Null Count  Dtype         \n",
      "---  ------             --------------  -----         \n",
      " 0   Latitude           99492 non-null  float64       \n",
      " 1   Longitude          99492 non-null  float64       \n",
      " 2   CEP                99492 non-null  float64       \n",
      " 3   Município          99492 non-null  object        \n",
      " 4   Endereço           99492 non-null  object        \n",
      " 5   Simulado           99492 non-null  int64         \n",
      " 6   DataLigação        99492 non-null  datetime64[ns]\n",
      " 7   DiaSemana          99492 non-null  object        \n",
      " 8   InicioChamada      99489 non-null  object        \n",
      " 9   TerminoChamada     99492 non-null  object        \n",
      " 10  SiglaDepartamento  99492 non-null  object        \n",
      " 11  MotivoChamada      99492 non-null  object        \n",
      "dtypes: datetime64[ns](1), float64(3), int64(1), object(7)\n",
      "memory usage: 9.1+ MB\n"
     ]
    }
   ],
   "source": [
    "# Reconferindo os dados\n",
    "base_ligacoes.info()"
   ]
  },
  {
   "cell_type": "code",
   "execution_count": 67,
   "id": "a63a1203-97a5-4cab-8519-f24c262d1190",
   "metadata": {},
   "outputs": [],
   "source": [
    "# Excluindo oa colunas que não serão utilizadas nesse projeto\n",
    "base_ligacoes.drop(['Simulado'], axis=1, inplace=True)"
   ]
  },
  {
   "cell_type": "markdown",
   "id": "0e614928-21f1-4865-95a6-916afd6c77dc",
   "metadata": {},
   "source": [
    "- Análise/Estatísticas dos Dados"
   ]
  },
  {
   "cell_type": "code",
   "execution_count": 68,
   "id": "b60e4426-2529-4b6c-a04a-d391cf9ebbca",
   "metadata": {},
   "outputs": [
    {
     "data": {
      "text/html": [
       "<div>\n",
       "<style scoped>\n",
       "    .dataframe tbody tr th:only-of-type {\n",
       "        vertical-align: middle;\n",
       "    }\n",
       "\n",
       "    .dataframe tbody tr th {\n",
       "        vertical-align: top;\n",
       "    }\n",
       "\n",
       "    .dataframe thead th {\n",
       "        text-align: right;\n",
       "    }\n",
       "</style>\n",
       "<table border=\"1\" class=\"dataframe\">\n",
       "  <thead>\n",
       "    <tr style=\"text-align: right;\">\n",
       "      <th></th>\n",
       "      <th>Latitude</th>\n",
       "      <th>Longitude</th>\n",
       "      <th>CEP</th>\n",
       "      <th>Município</th>\n",
       "      <th>Endereço</th>\n",
       "      <th>DataLigação</th>\n",
       "      <th>DiaSemana</th>\n",
       "      <th>InicioChamada</th>\n",
       "      <th>TerminoChamada</th>\n",
       "      <th>SiglaDepartamento</th>\n",
       "      <th>MotivoChamada</th>\n",
       "    </tr>\n",
       "  </thead>\n",
       "  <tbody>\n",
       "    <tr>\n",
       "      <th>0</th>\n",
       "      <td>40.297876</td>\n",
       "      <td>-75.581294</td>\n",
       "      <td>19525.0</td>\n",
       "      <td>NEW HANOVER</td>\n",
       "      <td>REINDEER CT &amp; DEAD END</td>\n",
       "      <td>2015-12-10</td>\n",
       "      <td>Thursday</td>\n",
       "      <td>17:10:52</td>\n",
       "      <td>17:40:00</td>\n",
       "      <td>EMS</td>\n",
       "      <td>BACK PAINS/INJURY</td>\n",
       "    </tr>\n",
       "    <tr>\n",
       "      <th>1</th>\n",
       "      <td>40.258061</td>\n",
       "      <td>-75.264680</td>\n",
       "      <td>19446.0</td>\n",
       "      <td>HATFIELD TOWNSHIP</td>\n",
       "      <td>BRIAR PATH &amp; WHITEMARSH LN</td>\n",
       "      <td>2015-12-10</td>\n",
       "      <td>Thursday</td>\n",
       "      <td>17:29:21</td>\n",
       "      <td>17:40:00</td>\n",
       "      <td>EMS</td>\n",
       "      <td>DIABETIC EMERGENCY</td>\n",
       "    </tr>\n",
       "    <tr>\n",
       "      <th>2</th>\n",
       "      <td>40.121182</td>\n",
       "      <td>-75.351975</td>\n",
       "      <td>19401.0</td>\n",
       "      <td>NORRISTOWN</td>\n",
       "      <td>HAWS AVE</td>\n",
       "      <td>2015-12-10</td>\n",
       "      <td>Thursday</td>\n",
       "      <td>14:39:21</td>\n",
       "      <td>17:40:00</td>\n",
       "      <td>Fire</td>\n",
       "      <td>GAS-ODOR/LEAK</td>\n",
       "    </tr>\n",
       "    <tr>\n",
       "      <th>3</th>\n",
       "      <td>40.116153</td>\n",
       "      <td>-75.343513</td>\n",
       "      <td>19401.0</td>\n",
       "      <td>NORRISTOWN</td>\n",
       "      <td>AIRY ST &amp; SWEDE ST</td>\n",
       "      <td>2015-12-10</td>\n",
       "      <td>Thursday</td>\n",
       "      <td>16:47:36</td>\n",
       "      <td>17:40:01</td>\n",
       "      <td>EMS</td>\n",
       "      <td>CARDIAC EMERGENCY</td>\n",
       "    </tr>\n",
       "    <tr>\n",
       "      <th>4</th>\n",
       "      <td>40.251492</td>\n",
       "      <td>-75.603350</td>\n",
       "      <td>0.0</td>\n",
       "      <td>LOWER POTTSGROVE</td>\n",
       "      <td>CHERRYWOOD CT &amp; DEAD END</td>\n",
       "      <td>2015-12-10</td>\n",
       "      <td>Thursday</td>\n",
       "      <td>16:56:52</td>\n",
       "      <td>17:40:01</td>\n",
       "      <td>EMS</td>\n",
       "      <td>DIZZINESS</td>\n",
       "    </tr>\n",
       "  </tbody>\n",
       "</table>\n",
       "</div>"
      ],
      "text/plain": [
       "    Latitude  Longitude      CEP          Município  \\\n",
       "0  40.297876 -75.581294  19525.0        NEW HANOVER   \n",
       "1  40.258061 -75.264680  19446.0  HATFIELD TOWNSHIP   \n",
       "2  40.121182 -75.351975  19401.0         NORRISTOWN   \n",
       "3  40.116153 -75.343513  19401.0         NORRISTOWN   \n",
       "4  40.251492 -75.603350      0.0   LOWER POTTSGROVE   \n",
       "\n",
       "                     Endereço DataLigação DiaSemana InicioChamada  \\\n",
       "0      REINDEER CT & DEAD END  2015-12-10  Thursday      17:10:52   \n",
       "1  BRIAR PATH & WHITEMARSH LN  2015-12-10  Thursday      17:29:21   \n",
       "2                    HAWS AVE  2015-12-10  Thursday      14:39:21   \n",
       "3          AIRY ST & SWEDE ST  2015-12-10  Thursday      16:47:36   \n",
       "4    CHERRYWOOD CT & DEAD END  2015-12-10  Thursday      16:56:52   \n",
       "\n",
       "  TerminoChamada SiglaDepartamento        MotivoChamada  \n",
       "0       17:40:00               EMS    BACK PAINS/INJURY  \n",
       "1       17:40:00               EMS   DIABETIC EMERGENCY  \n",
       "2       17:40:00              Fire        GAS-ODOR/LEAK  \n",
       "3       17:40:01               EMS    CARDIAC EMERGENCY  \n",
       "4       17:40:01               EMS            DIZZINESS  "
      ]
     },
     "execution_count": 68,
     "metadata": {},
     "output_type": "execute_result"
    }
   ],
   "source": [
    "# Exibindo os dados para conferir a criação das novas colunas, a formatação e a exclusão das colunas desnecessárias\n",
    "base_ligacoes.head()"
   ]
  },
  {
   "cell_type": "code",
   "execution_count": 69,
   "id": "76ab1cce-5d49-4d28-b587-a44497b6bd82",
   "metadata": {},
   "outputs": [
    {
     "data": {
      "text/plain": [
       "MotivoChamada\n",
       "VEHICLE ACCIDENT -       23066\n",
       "DISABLED VEHICLE -        7702\n",
       "VEHICLE ACCIDENT          5573\n",
       "FIRE ALARM                5510\n",
       "RESPIRATORY EMERGENCY     5112\n",
       "Name: count, dtype: int64"
      ]
     },
     "execution_count": 69,
     "metadata": {},
     "output_type": "execute_result"
    }
   ],
   "source": [
    "# Ranking dos 5 maiores motivos das chamadas\n",
    "    #Nesse momento, foi possível perceber que existem divergencias na formatação da coluna 'Motivo Chamada'\n",
    "base_ligacoes['MotivoChamada'].value_counts().head()"
   ]
  },
  {
   "cell_type": "code",
   "execution_count": 70,
   "id": "3b5a7542-e8d5-48da-9369-f1f7b77ec0fd",
   "metadata": {},
   "outputs": [],
   "source": [
    "# Corrigindo as diferenças de formatação na coluna 'Motivo Chamada'\n",
    "base_ligacoes['MotivoChamada'] = base_ligacoes['MotivoChamada'].str.strip().str.replace(' -$', '',regex=True)"
   ]
  },
  {
   "cell_type": "code",
   "execution_count": 71,
   "id": "0336ee1c-ecc3-479c-868f-7fea3110e283",
   "metadata": {},
   "outputs": [
    {
     "data": {
      "text/plain": [
       "MotivoChamada\n",
       "VEHICLE ACCIDENT         28639\n",
       "DISABLED VEHICLE          7703\n",
       "FIRE ALARM                5510\n",
       "RESPIRATORY EMERGENCY     5112\n",
       "CARDIAC EMERGENCY         5012\n",
       "Name: count, dtype: int64"
      ]
     },
     "execution_count": 71,
     "metadata": {},
     "output_type": "execute_result"
    }
   ],
   "source": [
    "# Verificando a correção no Ranking dos 5 maiores motivos das chamadas\n",
    "base_ligacoes['MotivoChamada'].value_counts().head()"
   ]
  },
  {
   "cell_type": "code",
   "execution_count": 72,
   "id": "462a92d3-ef55-4a9f-a90d-ff39935a13f3",
   "metadata": {
    "scrolled": true
   },
   "outputs": [
    {
     "data": {
      "text/plain": [
       "SiglaDepartamento\n",
       "EMS        48877\n",
       "Traffic    35695\n",
       "Fire       14920\n",
       "Name: count, dtype: int64"
      ]
     },
     "execution_count": 72,
     "metadata": {},
     "output_type": "execute_result"
    }
   ],
   "source": [
    "# Ranking dos Departamentos mais acionados\n",
    "    # EMS: Serviço de emergência médica\n",
    "    # Traffic: Serviço de Tráfego\n",
    "    # Fire: Incêndios\n",
    "base_ligacoes['SiglaDepartamento'].value_counts().head()"
   ]
  },
  {
   "cell_type": "code",
   "execution_count": 73,
   "id": "c804f548-f462-4aaa-8d52-725bac56ab06",
   "metadata": {},
   "outputs": [
    {
     "data": {
      "text/plain": [
       "<Axes: >"
      ]
     },
     "execution_count": 73,
     "metadata": {},
     "output_type": "execute_result"
    },
    {
     "data": {
      "image/png": "[encoded data removed]",
      "text/plain": [
       "<Figure size 400x300 with 1 Axes>"
      ]
     },
     "metadata": {},
     "output_type": "display_data"
    }
   ],
   "source": [
    "# Verificando os dados em um histograma simples\n",
    "base_ligacoes.SiglaDepartamento.hist(figsize=(4,3))"
   ]
  },
  {
   "cell_type": "code",
   "execution_count": 74,
   "id": "ed67ceb0-42a1-4bbf-be41-9445bea39c18",
   "metadata": {},
   "outputs": [
    {
     "data": {
      "text/plain": [
       "Município\n",
       "LOWER MERION    8443\n",
       "ABINGTON        5977\n",
       "NORRISTOWN      5890\n",
       "UPPER MERION    5227\n",
       "CHELTENHAM      4575\n",
       "Name: count, dtype: int64"
      ]
     },
     "execution_count": 74,
     "metadata": {},
     "output_type": "execute_result"
    }
   ],
   "source": [
    "# Ranking dos Municípios com maiores índices de ligações\n",
    "base_ligacoes['Município'].value_counts().head()"
   ]
  },
  {
   "cell_type": "code",
   "execution_count": 75,
   "id": "29f426e8-fddd-4620-9217-d2c2106974e4",
   "metadata": {},
   "outputs": [
    {
     "data": {
      "text/plain": [
       "Município  MotivoChamada        \n",
       "ABINGTON   VEHICLE ACCIDENT         1541\n",
       "           FIRE ALARM                490\n",
       "           DISABLED VEHICLE          404\n",
       "           RESPIRATORY EMERGENCY     337\n",
       "           FALL VICTIM               307\n",
       "Name: count, dtype: int64"
      ]
     },
     "execution_count": 75,
     "metadata": {},
     "output_type": "execute_result"
    }
   ],
   "source": [
    "# Entendendo qual município com os 5 tipos de chamadas são mais recorrentes\n",
    "base_ligacoes.groupby('Município')['MotivoChamada'].value_counts().head()"
   ]
  },
  {
   "cell_type": "code",
   "execution_count": 76,
   "id": "93c6654f-b43f-4968-a25c-2dcff0708cdd",
   "metadata": {},
   "outputs": [
    {
     "data": {
      "text/plain": [
       "DataLigação\n",
       "2016-01-23    913\n",
       "2016-02-24    679\n",
       "2016-01-24    662\n",
       "2016-01-12    588\n",
       "2016-04-03    586\n",
       "Name: count, dtype: int64"
      ]
     },
     "execution_count": 76,
     "metadata": {},
     "output_type": "execute_result"
    }
   ],
   "source": [
    "# Ranking dos 5 dias com maiores índices de ligações\n",
    "base_ligacoes['DataLigação'].value_counts().head()"
   ]
  },
  {
   "cell_type": "code",
   "execution_count": 77,
   "id": "68ec8078-7e51-4511-8c2e-5f17f05ee91c",
   "metadata": {
    "scrolled": true
   },
   "outputs": [
    {
     "data": {
      "text/plain": [
       "DiaSemana\n",
       "Tuesday      15150\n",
       "Wednesday    14879\n",
       "Friday       14833\n",
       "Monday       14680\n",
       "Thursday     14478\n",
       "Name: count, dtype: int64"
      ]
     },
     "execution_count": 77,
     "metadata": {},
     "output_type": "execute_result"
    }
   ],
   "source": [
    "# Verificando os dias da semana com o maiores índices de ligações\n",
    "base_ligacoes['DiaSemana'].value_counts().head()"
   ]
  },
  {
   "cell_type": "code",
   "execution_count": 78,
   "id": "774b1a89-2444-4e99-adb2-e17931e83bef",
   "metadata": {},
   "outputs": [
    {
     "data": {
      "text/plain": [
       "DiaSemana  SiglaDepartamento  MotivoChamada        \n",
       "Friday     EMS                RESPIRATORY EMERGENCY    751\n",
       "                              CARDIAC EMERGENCY        727\n",
       "                              FALL VICTIM              696\n",
       "                              VEHICLE ACCIDENT         636\n",
       "                              HEAD INJURY              380\n",
       "Name: count, dtype: int64"
      ]
     },
     "execution_count": 78,
     "metadata": {},
     "output_type": "execute_result"
    }
   ],
   "source": [
    "# Verificando o agrupamento de Dia da Semana e Sigla do Departamento com os 5 maiores motivos de ligações  \n",
    "base_ligacoes.groupby(['DiaSemana', 'SiglaDepartamento',])['MotivoChamada'].value_counts().head()"
   ]
  },
  {
   "cell_type": "code",
   "execution_count": 79,
   "id": "6f6d8a17-3b6a-4f77-a9ce-df5b71d9d9ae",
   "metadata": {},
   "outputs": [
    {
     "data": {
      "text/plain": [
       "DiaSemana  Município  MotivoChamada    \n",
       "Friday     ABINGTON   VEHICLE ACCIDENT     235\n",
       "                      DISABLED VEHICLE      75\n",
       "                      FIRE ALARM            70\n",
       "                      FALL VICTIM           49\n",
       "                      CARDIAC EMERGENCY     45\n",
       "Name: count, dtype: int64"
      ]
     },
     "execution_count": 79,
     "metadata": {},
     "output_type": "execute_result"
    }
   ],
   "source": [
    "# Verificando o agrupamento de Dia da Semana e Município com os 5 maiores motivos de ligações\n",
    "base_ligacoes.groupby(['DiaSemana', 'Município'])['MotivoChamada'].value_counts().head()"
   ]
  },
  {
   "cell_type": "code",
   "execution_count": 80,
   "id": "e6bd34ca-9060-45cd-82a5-c827bc536484",
   "metadata": {},
   "outputs": [
    {
     "data": {
      "text/plain": [
       "DiaSemana  Município   \n",
       "Friday     ABINGTON        881\n",
       "           AMBLER           86\n",
       "           BERKS COUNTY     40\n",
       "           BRIDGEPORT       63\n",
       "           BRYN ATHYN       24\n",
       "Name: MotivoChamada, dtype: int64"
      ]
     },
     "execution_count": 80,
     "metadata": {},
     "output_type": "execute_result"
    }
   ],
   "source": [
    "# Verificando o agrupamento de Dia da Semana e os 5 Município com os maiores índices de ligações\n",
    "base_ligacoes.groupby(['DiaSemana','Município'])['MotivoChamada'].count().head()"
   ]
  },
  {
   "cell_type": "code",
   "execution_count": null,
   "id": "f07b508e-09f6-45c5-926f-812efc974987",
   "metadata": {},
   "outputs": [],
   "source": [
    "# Convertendo os dados tratados para um arquivo csv\n",
    "base_ligacoes.to_csv('resultado911.csv', index=False, encoding='utf-8')"
   ]
  },
  {
   "cell_type": "markdown",
   "id": "6eb56768-2e33-4fb4-bf77-e515d5f4fd95",
   "metadata": {},
   "source": [
    "- Visualização dos Dados"
   ]
  },
  {
   "cell_type": "code",
   "execution_count": 82,
   "id": "aabb8794-cdd7-4538-9af6-d4a1c423391e",
   "metadata": {},
   "outputs": [
    {
     "data": {
      "image/png": "[encoded data removed]",
      "text/plain": [
       "<Figure size 640x480 with 1 Axes>"
      ]
     },
     "metadata": {},
     "output_type": "display_data"
    }
   ],
   "source": [
    "fig, ax = plt.subplots(ncols=1,nrows=1)\n",
    "\n",
    "#Dados\n",
    "dez_municipios = base_ligacoes['Município'].value_counts().head(10)\n",
    "dez_motivos = base_ligacoes['MotivoChamada'].value_counts().head(10)\n",
    "\n",
    "ax.bar(range(len(dez_motivos)), dez_motivos, color=\"grey\")\n",
    "ax.set_xticks(range(len(dez_motivos)))\n",
    "ax.set_xticklabels(dez_motivos.index, rotation=90)\n",
    "plt.title(\"QTDE DE LIGAÇÕES POR MOTIVO DA CHAMADA\")\n",
    "plt.xlabel(\"Motivo da Chamada\")\n",
    "plt.ylabel(\"Quantidade de Ligações\")\n",
    "\n",
    "plt.show()"
   ]
  },
  {
   "cell_type": "markdown",
   "id": "f2ff887e",
   "metadata": {},
   "source": [
    "Nesse momento é possível perceber que o maior índice de chamadas ocorreram por acidente de veículos."
   ]
  }
 ],
 "metadata": {
  "kernelspec": {
   "display_name": "Python 3",
   "language": "python",
   "name": "python3"
  },
  "language_info": {
   "codemirror_mode": {
    "name": "ipython",
    "version": 3
   },
   "file_extension": ".py",
   "mimetype": "text/x-python",
   "name": "python",
   "nbconvert_exporter": "python",
   "pygments_lexer": "ipython3",
   "version": "3.11.1"
  }
 },
 "nbformat": 4,
 "nbformat_minor": 5
}
